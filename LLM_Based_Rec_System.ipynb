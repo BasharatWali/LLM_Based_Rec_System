{
  "cells": [
    {
      "cell_type": "markdown",
      "metadata": {
        "id": "KTTsNeghrvJB"
      },
      "source": [
        "# Installing & Importing Required Packages"
      ]
    },
    {
      "cell_type": "code",
      "execution_count": null,
      "metadata": {
        "colab": {
          "base_uri": "https://localhost:8080/"
        },
        "id": "b7iDBggiwhWH",
        "outputId": "50214da0-ef88-4213-f8e2-677c9c8c560b"
      },
      "outputs": [
        {
          "name": "stdout",
          "output_type": "stream",
          "text": [
            "Mounted at /content/drive\n"
          ]
        }
      ],
      "source": [
        "from google.colab import drive\n",
        "drive.mount('/content/drive')"
      ]
    },
    {
      "cell_type": "code",
      "execution_count": 1,
      "metadata": {
        "colab": {
          "base_uri": "https://localhost:8080/"
        },
        "collapsed": true,
        "id": "Cr0d9lpmrU_X",
        "outputId": "293f384b-05b0-4c79-f504-f4861455e336"
      },
      "outputs": [
        {
          "name": "stdout",
          "output_type": "stream",
          "text": [
            "Requirement already satisfied: kagglehub in /usr/local/lib/python3.10/dist-packages (0.3.5)\n",
            "Requirement already satisfied: packaging in /usr/local/lib/python3.10/dist-packages (from kagglehub) (24.2)\n",
            "Requirement already satisfied: requests in /usr/local/lib/python3.10/dist-packages (from kagglehub) (2.32.3)\n",
            "Requirement already satisfied: tqdm in /usr/local/lib/python3.10/dist-packages (from kagglehub) (4.67.1)\n",
            "Requirement already satisfied: charset-normalizer<4,>=2 in /usr/local/lib/python3.10/dist-packages (from requests->kagglehub) (3.4.0)\n",
            "Requirement already satisfied: idna<4,>=2.5 in /usr/local/lib/python3.10/dist-packages (from requests->kagglehub) (3.10)\n",
            "Requirement already satisfied: urllib3<3,>=1.21.1 in /usr/local/lib/python3.10/dist-packages (from requests->kagglehub) (2.2.3)\n",
            "Requirement already satisfied: certifi>=2017.4.17 in /usr/local/lib/python3.10/dist-packages (from requests->kagglehub) (2024.12.14)\n",
            "Collecting pyLSHash\n",
            "  Downloading pyLSHash-0.2.3-py3-none-any.whl.metadata (437 bytes)\n",
            "Requirement already satisfied: numpy in /usr/local/lib/python3.10/dist-packages (from pyLSHash) (1.26.4)\n",
            "Requirement already satisfied: Pillow in /usr/local/lib/python3.10/dist-packages (from pyLSHash) (11.0.0)\n",
            "Collecting fuzzy-hash (from pyLSHash)\n",
            "  Downloading fuzzy-hash-0.0.3.tar.gz (15 kB)\n",
            "  Preparing metadata (setup.py) ... \u001b[?25l\u001b[?25hdone\n",
            "Downloading pyLSHash-0.2.3-py3-none-any.whl (10 kB)\n",
            "Building wheels for collected packages: fuzzy-hash\n",
            "  Building wheel for fuzzy-hash (setup.py) ... \u001b[?25l\u001b[?25hdone\n",
            "  Created wheel for fuzzy-hash: filename=fuzzy_hash-0.0.3-cp310-cp310-linux_x86_64.whl size=22899 sha256=acb7c896fce6fe2e76d0e419f64e3d311e240602d9f5fbcf8bc04a1bab7efd14\n",
            "  Stored in directory: /root/.cache/pip/wheels/84/86/fd/a0b01e8f494ee10c4d32d05bca30cd0aaf2090aaaa3ac8cdd1\n",
            "Successfully built fuzzy-hash\n",
            "Installing collected packages: fuzzy-hash, pyLSHash\n",
            "Successfully installed fuzzy-hash-0.0.3 pyLSHash-0.2.3\n",
            "Collecting faiss-cpu\n",
            "  Downloading faiss_cpu-1.9.0.post1-cp310-cp310-manylinux_2_17_x86_64.manylinux2014_x86_64.whl.metadata (4.4 kB)\n",
            "Requirement already satisfied: numpy<3.0,>=1.25.0 in /usr/local/lib/python3.10/dist-packages (from faiss-cpu) (1.26.4)\n",
            "Requirement already satisfied: packaging in /usr/local/lib/python3.10/dist-packages (from faiss-cpu) (24.2)\n",
            "Downloading faiss_cpu-1.9.0.post1-cp310-cp310-manylinux_2_17_x86_64.manylinux2014_x86_64.whl (27.5 MB)\n",
            "\u001b[2K   \u001b[90m━━━━━━━━━━━━━━━━━━━━━━━━━━━━━━━━━━━━━━━━\u001b[0m \u001b[32m27.5/27.5 MB\u001b[0m \u001b[31m24.2 MB/s\u001b[0m eta \u001b[36m0:00:00\u001b[0m\n",
            "\u001b[?25hInstalling collected packages: faiss-cpu\n",
            "Successfully installed faiss-cpu-1.9.0.post1\n"
          ]
        }
      ],
      "source": [
        "!pip install kagglehub\n",
        "!pip install pyLSHash\n",
        "!pip install faiss-cpu\n",
        "\n",
        "\n",
        "import kagglehub\n",
        "from transformers import AutoTokenizer, AutoModelForMaskedLM, AutoModel\n",
        "import shutil\n",
        "import os\n",
        "import pandas as pd\n",
        "import numpy as np\n",
        "from pyLSHash import LSHash\n",
        "import faiss\n",
        "import re\n",
        "import torch\n",
        "from time import time\n",
        "from pyLSHash import SimHash, hamming\n"
      ]
    },
    {
      "cell_type": "markdown",
      "metadata": {
        "id": "8BMTfaFsdxrK"
      },
      "source": [
        "# Loading Model"
      ]
    },
    {
      "cell_type": "markdown",
      "metadata": {
        "id": "IAK5DhvwFCf7"
      },
      "source": [
        "## PUBMED BERT"
      ]
    },
    {
      "cell_type": "code",
      "execution_count": null,
      "metadata": {
        "colab": {
          "base_uri": "https://localhost:8080/",
          "height": 81,
          "referenced_widgets": [
            "8e8669c88e3d47578c5617ee610224f5",
            "b68f247dda7643209b04c297a4e0adf1",
            "7ec16d99757044568dc98b7da9841b9e",
            "22765a6cd02c4d4cab2d968fc247a402",
            "ba36f0c77d6340088dfe012e92388bfb",
            "41beb842d0f14ce482fd59480defb85e",
            "ccbd0833a22548d08ad0cce8b1aee999",
            "7d69b06a77bd41909184b46f180bac08",
            "ad5128c7303b4ada9d3a2b68133af808",
            "99f219876c634973853116f1ee77a295",
            "4a6a4d5e731848d6b012cbfe7b5d82be",
            "75788e17f2604d6182a28fe4b6bb7b06",
            "65834cc090d148c7bf1b9f89161a24a2",
            "4d2d778273a0406186323f90b615794e",
            "8171288853a344e39511b0d6227cbc23",
            "a5f0ddc601bc45f7bf4955bd8b1fb466",
            "8606fbb299b6426d94892c5024c7b09a",
            "7ed96a8c415b4cb0a110ab0a923bc380",
            "dde9e048c66e4c62b8189fde61f1e00b",
            "a2a586796f434a49a8d2903f12f9b035",
            "3d6781e262b84ef39d109e984a7a20d7",
            "bc449b66ffe041b9b8c112c64f689b33"
          ]
        },
        "id": "CA3VtOvEFGa4",
        "outputId": "b1ecb69b-b7f5-4e56-bad0-b6b632c6b793"
      },
      "outputs": [
        {
          "data": {
            "application/vnd.jupyter.widget-view+json": {
              "model_id": "8e8669c88e3d47578c5617ee610224f5",
              "version_major": 2,
              "version_minor": 0
            },
            "text/plain": [
              "config.json:   0%|          | 0.00/667 [00:00<?, ?B/s]"
            ]
          },
          "metadata": {},
          "output_type": "display_data"
        },
        {
          "data": {
            "application/vnd.jupyter.widget-view+json": {
              "model_id": "75788e17f2604d6182a28fe4b6bb7b06",
              "version_major": 2,
              "version_minor": 0
            },
            "text/plain": [
              "pytorch_model.bin:   0%|          | 0.00/438M [00:00<?, ?B/s]"
            ]
          },
          "metadata": {},
          "output_type": "display_data"
        }
      ],
      "source": [
        "tokenizer = AutoTokenizer.from_pretrained(\"neuml/pubmedbert-base-embeddings\")\n",
        "model = AutoModel.from_pretrained(\"neuml/pubmedbert-base-embeddings\")\n"
      ]
    },
    {
      "cell_type": "markdown",
      "metadata": {
        "id": "3biZgVflE6Xc"
      },
      "source": [
        "## Clinical BERT"
      ]
    },
    {
      "cell_type": "code",
      "execution_count": 2,
      "metadata": {
        "colab": {
          "base_uri": "https://localhost:8080/",
          "height": 301,
          "referenced_widgets": [
            "4d5dfbf961e04c8494e6ace0f2c611e1",
            "89c50ebfe62041748169bbc0881bf985",
            "d757a55a10274d71aa3356b0dd6870bb",
            "e0b8bf5c1336477b873ca598e5111c04",
            "b94173ba93f5438e9305d86fcefbc1a8",
            "080f9d2867f149b38d7c29f575af7ee2",
            "6f5ccf335d6645c396d132daacf96648",
            "74305aff97da42d68ba7de083346ec9d",
            "3f7f095dd69942d5a4d09cfbe50b0db2",
            "f101de5a59ea48b3a0f68916c77edca7",
            "52eeef21116c414482f62990d479c3bc",
            "e12493d5adbc4141b7111cedd6a4a71b",
            "f3a8553c18084299afdcb025ed6b1890",
            "783295477d7f43bba3899bce9397afd2",
            "2f0e40ec3a1a48d2b9a9c0b09ca0587e",
            "743c8f0430364bceb16fdf6b93f1e488",
            "a8aa62f429664d91afb0c93eff257a6c",
            "221bb5ca52f7450eab82afc4a9465cc9",
            "7ff09fcfb93a47d78b7be364d684a6f9",
            "0bf88655ee314519a21ea22058a81063",
            "cd08d1431627454088305f11548774b4",
            "15becfc8051f462681d4cbd99aa3179d",
            "6e5b76c85b834080987876217c08cb15",
            "c106bd39d49a49b79ebeaf8d48f2ad6c",
            "c017e0e838a14ea08e62f758e48b82c4",
            "00326136caa04c5682b95439aec72f5e",
            "11ca9e47c85a4073afadb9c858fbc0ed",
            "3aa7add11ae5412c846b0b4a0952e653",
            "94edc8924e944a1592f1cf067c0a1121",
            "62bb0838ff88437189c15d01c027dbd0",
            "1985baff44294bcab9002d37292068f9",
            "f852d821b8f042b696ff79496f2d7124",
            "27d8aaea03ac44e7875a507e11f6b3a4",
            "a470509b1eb34cd8bb8a67c157a7f724",
            "b495a764fd754862969cfd023840f0c6",
            "26f142e4793b4c1a857ef2f204c91404",
            "ea3f3384f5d44d67939d734cbdcc66da",
            "a60ee64552df404caeb2ea1ee7da1dd7",
            "1ec3b351439245b785dbe44f2ac41fe4",
            "2d3bc727227647b1a692c2ea408a936e",
            "f39ee1242b96434983f1a1b0e38a5261",
            "4431c6e738da4fecac0e49a689b527ac",
            "01a4f11f339f4ff792f2cf07ee15a858",
            "e2ebb94770854593b134016299822b20",
            "4312724fb6ae48d09fcf8fdf6e36397c",
            "7d9976250aa640f781c2c452271108c5",
            "72e628bbfa044026a4906d28937eed8f",
            "8c79b3624a9945d9a31cbf82b2e33f24",
            "9a9dc03c548b4a099a42f558cb08feb1",
            "d96965f962a644a1b28c6dffd72b7630",
            "73413a85665647a1a48de09c37c486df",
            "a32d542f21f64d98a78e1d5d79552d09",
            "63d184c7d452428e9e824218dc9e45b8",
            "bddc6bf316f04d04bfd156c639bd4b97",
            "07689afe582b493294534ced5925f24c"
          ]
        },
        "id": "wyrhCyMpE4y_",
        "outputId": "01f57923-3977-428e-8e41-ff97c4e19d3a"
      },
      "outputs": [
        {
          "name": "stderr",
          "output_type": "stream",
          "text": [
            "/usr/local/lib/python3.10/dist-packages/huggingface_hub/utils/_auth.py:94: UserWarning: \n",
            "The secret `HF_TOKEN` does not exist in your Colab secrets.\n",
            "To authenticate with the Hugging Face Hub, create a token in your settings tab (https://huggingface.co/settings/tokens), set it as secret in your Google Colab and restart your session.\n",
            "You will be able to reuse this secret in all of your notebooks.\n",
            "Please note that authentication is recommended but still optional to access public models or datasets.\n",
            "  warnings.warn(\n"
          ]
        },
        {
          "data": {
            "application/vnd.jupyter.widget-view+json": {
              "model_id": "4d5dfbf961e04c8494e6ace0f2c611e1",
              "version_major": 2,
              "version_minor": 0
            },
            "text/plain": [
              "tokenizer_config.json:   0%|          | 0.00/62.0 [00:00<?, ?B/s]"
            ]
          },
          "metadata": {},
          "output_type": "display_data"
        },
        {
          "data": {
            "application/vnd.jupyter.widget-view+json": {
              "model_id": "e12493d5adbc4141b7111cedd6a4a71b",
              "version_major": 2,
              "version_minor": 0
            },
            "text/plain": [
              "config.json:   0%|          | 0.00/466 [00:00<?, ?B/s]"
            ]
          },
          "metadata": {},
          "output_type": "display_data"
        },
        {
          "data": {
            "application/vnd.jupyter.widget-view+json": {
              "model_id": "6e5b76c85b834080987876217c08cb15",
              "version_major": 2,
              "version_minor": 0
            },
            "text/plain": [
              "vocab.txt:   0%|          | 0.00/996k [00:00<?, ?B/s]"
            ]
          },
          "metadata": {},
          "output_type": "display_data"
        },
        {
          "data": {
            "application/vnd.jupyter.widget-view+json": {
              "model_id": "a470509b1eb34cd8bb8a67c157a7f724",
              "version_major": 2,
              "version_minor": 0
            },
            "text/plain": [
              "special_tokens_map.json:   0%|          | 0.00/112 [00:00<?, ?B/s]"
            ]
          },
          "metadata": {},
          "output_type": "display_data"
        },
        {
          "data": {
            "application/vnd.jupyter.widget-view+json": {
              "model_id": "4312724fb6ae48d09fcf8fdf6e36397c",
              "version_major": 2,
              "version_minor": 0
            },
            "text/plain": [
              "pytorch_model.bin:   0%|          | 0.00/542M [00:00<?, ?B/s]"
            ]
          },
          "metadata": {},
          "output_type": "display_data"
        }
      ],
      "source": [
        "\n",
        "tokenizer = AutoTokenizer.from_pretrained(\"medicalai/ClinicalBERT\")\n",
        "model = AutoModelForMaskedLM.from_pretrained(\"medicalai/ClinicalBERT\")"
      ]
    },
    {
      "cell_type": "markdown",
      "metadata": {
        "id": "SF_LK38Ldmwk"
      },
      "source": [
        "# Testing Tokenizer & Output Embeddings"
      ]
    },
    {
      "cell_type": "markdown",
      "metadata": {
        "id": "Cn6bQgTXd9OB"
      },
      "source": [
        "## Case 1"
      ]
    },
    {
      "cell_type": "code",
      "execution_count": 3,
      "metadata": {
        "id": "65IHr_jxL1wA"
      },
      "outputs": [],
      "source": [
        "inputs = tokenizer(\"Fungal infection is a common skin condition caused by fungi.\", return_tensors=\"pt\")\n",
        "outputs = model(**inputs, output_hidden_states=True)\n"
      ]
    },
    {
      "cell_type": "code",
      "execution_count": 4,
      "metadata": {
        "id": "PWQXWs00atSg"
      },
      "outputs": [],
      "source": [
        "hidden_states = outputs.hidden_states\n",
        "last_layer_embeddings = hidden_states[-1]"
      ]
    },
    {
      "cell_type": "code",
      "execution_count": 5,
      "metadata": {
        "colab": {
          "base_uri": "https://localhost:8080/"
        },
        "id": "FUpbWX2wbAww",
        "outputId": "0a9e2589-ffde-4c0c-b74a-afa40b747fde"
      },
      "outputs": [
        {
          "data": {
            "text/plain": [
              "{'input_ids': tensor([[   101,  41807,  17026,  55223,  10124,    169,  14624,  40564,  24713,\n",
              "          19513,  10155, 107950,    119,    102]]), 'attention_mask': tensor([[1, 1, 1, 1, 1, 1, 1, 1, 1, 1, 1, 1, 1, 1]])}"
            ]
          },
          "execution_count": 5,
          "metadata": {},
          "output_type": "execute_result"
        }
      ],
      "source": [
        "inputs"
      ]
    },
    {
      "cell_type": "code",
      "execution_count": 6,
      "metadata": {
        "colab": {
          "base_uri": "https://localhost:8080/"
        },
        "id": "h46Ef1KYavat",
        "outputId": "afe46a62-54a8-4383-f043-18604c7e3f89"
      },
      "outputs": [
        {
          "data": {
            "text/plain": [
              "tensor([[[-0.0075, -0.1032,  0.4786,  ..., -0.0054,  0.0832, -0.2542],\n",
              "         [-0.3233, -0.5111,  0.6904,  ..., -0.8858, -0.0309, -0.2969],\n",
              "         [-0.0361, -0.3336,  1.2755,  ...,  0.2745, -0.0976, -0.4397],\n",
              "         ...,\n",
              "         [-0.5215, -0.1644,  0.7890,  ...,  0.0165,  0.1556, -0.3001],\n",
              "         [-0.3448, -0.1667,  1.0636,  ..., -0.0472,  0.2363, -0.3965],\n",
              "         [ 0.1714, -0.2603,  0.6884,  ..., -0.2345, -0.0743, -0.1550]]],\n",
              "       grad_fn=<NativeLayerNormBackward0>)"
            ]
          },
          "execution_count": 6,
          "metadata": {},
          "output_type": "execute_result"
        }
      ],
      "source": [
        "last_layer_embeddings"
      ]
    },
    {
      "cell_type": "code",
      "execution_count": 7,
      "metadata": {
        "colab": {
          "base_uri": "https://localhost:8080/",
          "height": 35
        },
        "id": "XUL_svMaWB2A",
        "outputId": "c1bb944b-07b4-4387-9de6-b8459ac6b2f5"
      },
      "outputs": [
        {
          "data": {
            "application/vnd.google.colaboratory.intrinsic+json": {
              "type": "string"
            },
            "text/plain": [
              "'[CLS] fungal infection is a common skin condition caused by fungi. [SEP]'"
            ]
          },
          "execution_count": 7,
          "metadata": {},
          "output_type": "execute_result"
        }
      ],
      "source": [
        "tokenizer.decode(inputs[\"input_ids\"][0])"
      ]
    },
    {
      "cell_type": "markdown",
      "metadata": {
        "id": "uHfW0nVQeALv"
      },
      "source": [
        "## Case 2"
      ]
    },
    {
      "cell_type": "code",
      "execution_count": null,
      "metadata": {
        "colab": {
          "base_uri": "https://localhost:8080/"
        },
        "id": "wq9ICiUkbcnK",
        "outputId": "7a0194e4-3e38-4426-e1aa-a53587ad4189"
      },
      "outputs": [
        {
          "data": {
            "text/plain": [
              "{'input_ids': tensor([[   101,  41807,  17026,  55223,  10124,    169,  14624,  40564,  21911,\n",
              "          19513,  10155, 107950,    119,    102]]), 'attention_mask': tensor([[1, 1, 1, 1, 1, 1, 1, 1, 1, 1, 1, 1, 1, 1]])}"
            ]
          },
          "execution_count": 15,
          "metadata": {},
          "output_type": "execute_result"
        }
      ],
      "source": [
        "inputs = tokenizer(\"Fungal infection is a common skin disease caused by fungi.\", return_tensors=\"pt\")\n",
        "outputs = model(**inputs, output_hidden_states=True)\n",
        "hidden_states = outputs.hidden_states\n",
        "last_layer_embeddings = hidden_states[-1]\n",
        "inputs"
      ]
    },
    {
      "cell_type": "code",
      "execution_count": null,
      "metadata": {
        "colab": {
          "base_uri": "https://localhost:8080/"
        },
        "id": "moD_BqvXbxXp",
        "outputId": "e13fdc89-c688-4146-8d28-9017177a9d9d"
      },
      "outputs": [
        {
          "data": {
            "text/plain": [
              "(torch.Size([1, 768]), torch.Size([1, 14, 768]))"
            ]
          },
          "execution_count": 19,
          "metadata": {},
          "output_type": "execute_result"
        }
      ],
      "source": [
        "cls_embedding = last_layer_embeddings[:, 0, :]\n",
        "cls_embedding.shape, last_layer_embeddings.shape"
      ]
    },
    {
      "cell_type": "markdown",
      "metadata": {
        "id": "2mstJCpwhd3b"
      },
      "source": [
        "# Generating Embeddings"
      ]
    },
    {
      "cell_type": "markdown",
      "metadata": {
        "id": "vN8HzPvsWhh-"
      },
      "source": [
        "### Downloading Dataset From Kaggle"
      ]
    },
    {
      "cell_type": "code",
      "execution_count": 29,
      "metadata": {
        "colab": {
          "base_uri": "https://localhost:8080/"
        },
        "id": "g00AdH8cuxYn",
        "outputId": "fbe2a11e-321e-49d1-f0da-3509434f6c34"
      },
      "outputs": [
        {
          "name": "stdout",
          "output_type": "stream",
          "text": [
            "Warning: Looks like you're using an outdated `kagglehub` version (installed: 0.3.5), please consider upgrading to the latest version (0.3.6).\n",
            "Downloading from https://www.kaggle.com/api/v1/datasets/download/noorsaeed/medicine-recommendation-system-dataset?dataset_version_number=1...\n"
          ]
        },
        {
          "name": "stderr",
          "output_type": "stream",
          "text": [
            "100%|██████████| 59.8k/59.8k [00:00<00:00, 812kB/s]"
          ]
        },
        {
          "name": "stdout",
          "output_type": "stream",
          "text": [
            "Extracting files...\n"
          ]
        },
        {
          "name": "stderr",
          "output_type": "stream",
          "text": [
            "\n"
          ]
        }
      ],
      "source": [
        "path = kagglehub.dataset_download(\"samoyedzzzzz/34000-medicine-details\")\n",
        "# noorsaeed/medicine-recommendation-system-dataset (Dataset1 path)"
      ]
    },
    {
      "cell_type": "code",
      "execution_count": 30,
      "metadata": {
        "id": "J9leUwV7uym6"
      },
      "outputs": [],
      "source": [
        "source_path = path\n",
        "\n",
        "destination_path = \"/content/Dataset2\"\n",
        "os.makedirs(destination_path, exist_ok=True)\n",
        "\n",
        "for file_name in os.listdir(source_path):\n",
        "    full_file_name = os.path.join(source_path, file_name)\n",
        "    if os.path.isfile(full_file_name):\n",
        "        shutil.move(full_file_name, destination_path)"
      ]
    },
    {
      "cell_type": "markdown",
      "metadata": {
        "id": "OBCnFbohWxQ2"
      },
      "source": [
        "# Embedding Generation"
      ]
    },
    {
      "cell_type": "markdown",
      "metadata": {
        "id": "iYpdbhHLwX6h"
      },
      "source": [
        "## Generate Function"
      ]
    },
    {
      "cell_type": "code",
      "execution_count": 10,
      "metadata": {
        "id": "iKRgLlOqEyyE"
      },
      "outputs": [],
      "source": [
        "def meanpooling(output, mask):\n",
        "    \"\"\"\n",
        "    Mean Pooling - Take attention mask into account for correct averaging.\n",
        "    \"\"\"\n",
        "    embeddings = output[0]\n",
        "    mask = mask.to(embeddings.device)\n",
        "    mask = mask.unsqueeze(-1).expand(embeddings.size()).float()\n",
        "    return torch.sum(embeddings * mask, 1) / torch.clamp(mask.sum(1), min=1e-9)\n"
      ]
    },
    {
      "cell_type": "code",
      "execution_count": 11,
      "metadata": {
        "id": "jkKx_X6mHQt3"
      },
      "outputs": [],
      "source": [
        "def generate_embeddings(\n",
        "    texts, tokenizer, model, query=False,\n",
        "    max_length=128, batch_size=32, Bert=None):\n",
        "\n",
        "    device = torch.device(\"cuda\" if torch.cuda.is_available() else \"cpu\")\n",
        "    model = model.to(device)\n",
        "\n",
        "    all_embeddings = []\n",
        "    if query:\n",
        "        prefix = \"Medication for \"\n",
        "        texts = [f\"{prefix}{text}\" for text in texts]\n",
        "\n",
        "    for i in range(0, len(texts), batch_size):\n",
        "        batch_texts = texts[i : i + batch_size]\n",
        "        inputs = tokenizer(\n",
        "            batch_texts,\n",
        "            return_tensors=\"pt\",\n",
        "            padding=True,\n",
        "            truncation=True,\n",
        "            max_length=max_length,\n",
        "        )\n",
        "\n",
        "        model_inputs = {\n",
        "            \"input_ids\": inputs[\"input_ids\"].to(device),\n",
        "            \"attention_mask\": inputs[\"attention_mask\"].to(device),\n",
        "            \"output_hidden_states\": True,\n",
        "            \"return_dict\": True,\n",
        "        }\n",
        "\n",
        "        if \"token_type_ids\" in inputs:\n",
        "            model_inputs[\"token_type_ids\"] = inputs[\"token_type_ids\"].to(device)\n",
        "\n",
        "        with torch.no_grad():\n",
        "            outputs = model(**model_inputs)\n",
        "        if Bert == 'pubmed':\n",
        "            embeddings = meanpooling(outputs, inputs[\"attention_mask\"]).cpu().numpy()\n",
        "        else:\n",
        "            embeddings = outputs.hidden_states[-1][:, 0, :].cpu().numpy()\n",
        "        all_embeddings.append(embeddings)\n",
        "\n",
        "    return np.vstack(all_embeddings)\n"
      ]
    },
    {
      "cell_type": "markdown",
      "metadata": {
        "id": "KCBIQ8_kYaxm"
      },
      "source": [
        "## Data Preparation"
      ]
    },
    {
      "cell_type": "markdown",
      "metadata": {
        "id": "X8NluQK9nWbZ"
      },
      "source": [
        "### Dataset 2 loading"
      ]
    },
    {
      "cell_type": "code",
      "execution_count": 12,
      "metadata": {
        "colab": {
          "base_uri": "https://localhost:8080/",
          "height": 241
        },
        "id": "bzGpK48KvChe",
        "outputId": "fbbb83c2-a694-4a42-afd8-fc9bc3295651"
      },
      "outputs": [
        {
          "data": {
            "text/html": [
              "<div>\n",
              "<style scoped>\n",
              "    .dataframe tbody tr th:only-of-type {\n",
              "        vertical-align: middle;\n",
              "    }\n",
              "\n",
              "    .dataframe tbody tr th {\n",
              "        vertical-align: top;\n",
              "    }\n",
              "\n",
              "    .dataframe thead th {\n",
              "        text-align: right;\n",
              "    }\n",
              "</style>\n",
              "<table border=\"1\" class=\"dataframe\">\n",
              "  <thead>\n",
              "    <tr style=\"text-align: right;\">\n",
              "      <th></th>\n",
              "      <th>input_text</th>\n",
              "    </tr>\n",
              "  </thead>\n",
              "  <tbody>\n",
              "    <tr>\n",
              "      <th>0</th>\n",
              "      <td>Drug Name is Aceloflam Plus Tablet Which is us...</td>\n",
              "    </tr>\n",
              "    <tr>\n",
              "      <th>1</th>\n",
              "      <td>Drug Name is Aceloflam Plus Tablet Which is us...</td>\n",
              "    </tr>\n",
              "    <tr>\n",
              "      <th>2</th>\n",
              "      <td>Drug Name is Aceloflam Plus Tablet Which is us...</td>\n",
              "    </tr>\n",
              "    <tr>\n",
              "      <th>3</th>\n",
              "      <td>Drug Name is Aceloflam Plus Tablet Which is us...</td>\n",
              "    </tr>\n",
              "    <tr>\n",
              "      <th>4</th>\n",
              "      <td>Drug Name is Adriamycin 50mg Injection Which i...</td>\n",
              "    </tr>\n",
              "  </tbody>\n",
              "</table>\n",
              "</div><br><label><b>dtype:</b> object</label>"
            ],
            "text/plain": [
              "0    Drug Name is Aceloflam Plus Tablet Which is us...\n",
              "1    Drug Name is Aceloflam Plus Tablet Which is us...\n",
              "2    Drug Name is Aceloflam Plus Tablet Which is us...\n",
              "3    Drug Name is Aceloflam Plus Tablet Which is us...\n",
              "4    Drug Name is Adriamycin 50mg Injection Which i...\n",
              "Name: input_text, dtype: object"
            ]
          },
          "execution_count": 12,
          "metadata": {},
          "output_type": "execute_result"
        }
      ],
      "source": [
        "df = pd.read_csv(\"/content/Dataset2/dataset.csv\")\n",
        "important_columns = ['Name', 'Uses']\n",
        "df = df[important_columns].fillna(\"\")\n",
        "\n",
        "def split_side_effects(text):\n",
        "    return re.findall(r'[A-Z][a-z]*|[a-z]+|\\(.*?\\)|\\S+', text)\n",
        "\n",
        "df['Uses'] = df['Uses'].apply(lambda text: ' '.join(split_side_effects(text)))\n",
        "df['input_text'] = \"Drug Name is \" + df['Name'] + \" Which is used for \" + df['Uses']\n",
        "df['input_text'].head()\n"
      ]
    },
    {
      "cell_type": "code",
      "execution_count": 13,
      "metadata": {
        "colab": {
          "base_uri": "https://localhost:8080/"
        },
        "id": "odwTO1goiMVO",
        "outputId": "311edb5d-ddf2-41d0-d9ce-2f3f83dd0f24"
      },
      "outputs": [
        {
          "data": {
            "text/plain": [
              "(34109, 3)"
            ]
          },
          "execution_count": 13,
          "metadata": {},
          "output_type": "execute_result"
        }
      ],
      "source": [
        "df = df.groupby('Uses').filter(lambda group: len(group) > 1)\n",
        "df.shape"
      ]
    },
    {
      "cell_type": "code",
      "execution_count": 14,
      "metadata": {
        "colab": {
          "base_uri": "https://localhost:8080/"
        },
        "id": "3xVQ5nqeh9ZA",
        "outputId": "666ecc9b-1d04-4097-f1d9-f0babaaefebd"
      },
      "outputs": [
        {
          "data": {
            "text/plain": [
              "((33909, 3), (200, 3))"
            ]
          },
          "execution_count": 14,
          "metadata": {},
          "output_type": "execute_result"
        }
      ],
      "source": [
        "df = df.sample(frac=1, random_state=42)\n",
        "new_df = df.sample(n=200, random_state=42)\n",
        "df = df.drop(new_df.index)\n",
        "df.shape, new_df.shape"
      ]
    },
    {
      "cell_type": "code",
      "execution_count": 15,
      "metadata": {
        "id": "xWoXsoPkZK37"
      },
      "outputs": [],
      "source": [
        "#df2 = pd.read_csv('/content/drive/MyDrive/BDA_Project/Dataset1/Symptom-severity.csv')\n",
        "Data = df['input_text'].tolist()\n",
        "Names = df['Name'].tolist()\n",
        "Queries = new_df['Uses'].tolist()"
      ]
    },
    {
      "cell_type": "code",
      "execution_count": 16,
      "metadata": {
        "colab": {
          "base_uri": "https://localhost:8080/",
          "height": 35
        },
        "id": "OK6its2oZVJr",
        "outputId": "7d96582d-5bc7-4aba-ed1d-1a4a3ae057f4"
      },
      "outputs": [
        {
          "data": {
            "application/vnd.google.colaboratory.intrinsic+json": {
              "type": "string"
            },
            "text/plain": [
              "'Drug Name is Dard MR Tablet Which is used for Treatment of Pain due to muscle spasm'"
            ]
          },
          "execution_count": 16,
          "metadata": {},
          "output_type": "execute_result"
        }
      ],
      "source": [
        "Data[50]"
      ]
    },
    {
      "cell_type": "code",
      "execution_count": 17,
      "metadata": {
        "colab": {
          "base_uri": "https://localhost:8080/",
          "height": 35
        },
        "id": "hjhkFYq2cRc1",
        "outputId": "ed54d152-b115-420f-e95b-bbfdf2bfaf33"
      },
      "outputs": [
        {
          "data": {
            "application/vnd.google.colaboratory.intrinsic+json": {
              "type": "string"
            },
            "text/plain": [
              "'Treatment of Depression Treatment of Anxiety disorder Treatment of Panic disorder'"
            ]
          },
          "execution_count": 17,
          "metadata": {},
          "output_type": "execute_result"
        }
      ],
      "source": [
        "Queries[50]"
      ]
    },
    {
      "cell_type": "code",
      "execution_count": 18,
      "metadata": {
        "colab": {
          "base_uri": "https://localhost:8080/",
          "height": 35
        },
        "id": "oNk2OXAncSQo",
        "outputId": "2ef09aa4-0d91-4b68-9d49-10b9e6e810c0"
      },
      "outputs": [
        {
          "data": {
            "application/vnd.google.colaboratory.intrinsic+json": {
              "type": "string"
            },
            "text/plain": [
              "'Dard MR Tablet'"
            ]
          },
          "execution_count": 18,
          "metadata": {},
          "output_type": "execute_result"
        }
      ],
      "source": [
        "Names[50]"
      ]
    },
    {
      "cell_type": "markdown",
      "metadata": {
        "id": "7rMMcNjUN6mF"
      },
      "source": [
        "### Dataset 1 loading"
      ]
    },
    {
      "cell_type": "code",
      "execution_count": 31,
      "metadata": {
        "id": "1I9ZFeo9N9TQ"
      },
      "outputs": [],
      "source": [
        "disease_symptoms_df = pd.read_csv('/content/Dataset1/symtoms_df.csv')\n",
        "disease_medications_df = pd.read_csv('/content/Dataset1/medications.csv')\n",
        "disease_medications_df['Medication'] = disease_medications_df['Medication'].apply(lambda x: ', '.join(eval(x)) if isinstance(x, str) else x)\n",
        "df = pd.merge(disease_symptoms_df, disease_medications_df, on='Disease', how='inner')\n",
        "df['BERT_Input'] = df.apply(\n",
        "    lambda row: f\"{row['Disease']} have symptoms {row['Symptom_1']}, {row['Symptom_2']} and {row['Symptom_3']} for which {row['Medication'].split(',')[0] if isinstance(row['Medication'], str) else row['Medication']} is used to cure.\",\n",
        "    axis=1\n",
        ")\n"
      ]
    },
    {
      "cell_type": "code",
      "execution_count": 32,
      "metadata": {
        "colab": {
          "base_uri": "https://localhost:8080/"
        },
        "id": "sAbkOIVQP532",
        "outputId": "7ff6437d-2dae-4331-aca9-7f155b7154ac"
      },
      "outputs": [
        {
          "data": {
            "text/plain": [
              "((4240, 8), (200, 8))"
            ]
          },
          "execution_count": 32,
          "metadata": {},
          "output_type": "execute_result"
        }
      ],
      "source": [
        "df = df.sample(frac=1, random_state=42)\n",
        "new_df = df.sample(n=200, random_state=42)\n",
        "df = df.drop(new_df.index)\n",
        "df.shape, new_df.shape"
      ]
    },
    {
      "cell_type": "code",
      "execution_count": 33,
      "metadata": {
        "id": "HMgu1ReXRk5-"
      },
      "outputs": [],
      "source": [
        "new_df['Symptom_Text'] = new_df[['Symptom_1', 'Symptom_2', 'Symptom_3', 'Symptom_4']].apply(\n",
        "    lambda row: ', '.join([symptom for symptom in row if pd.notnull(symptom)][:3]),\n",
        "    axis=1\n",
        ")\n",
        "\n",
        "new_df = new_df[['Disease', 'Symptom_Text']]"
      ]
    },
    {
      "cell_type": "code",
      "execution_count": null,
      "metadata": {
        "colab": {
          "base_uri": "https://localhost:8080/",
          "height": 608
        },
        "collapsed": true,
        "id": "89Uww9D4R26b",
        "outputId": "c875af2f-0301-4da3-fe0d-27d8743170ad"
      },
      "outputs": [
        {
          "data": {
            "application/vnd.google.colaboratory.intrinsic+json": {
              "summary": "{\n  \"name\": \"df\",\n  \"rows\": 4240,\n  \"fields\": [\n    {\n      \"column\": \"Unnamed: 0\",\n      \"properties\": {\n        \"dtype\": \"number\",\n        \"std\": 1418,\n        \"min\": 0,\n        \"max\": 4919,\n        \"num_unique_values\": 4240,\n        \"samples\": [\n          2889,\n          7,\n          4712\n        ],\n        \"semantic_type\": \"\",\n        \"description\": \"\"\n      }\n    },\n    {\n      \"column\": \"Disease\",\n      \"properties\": {\n        \"dtype\": \"category\",\n        \"num_unique_values\": 37,\n        \"samples\": [\n          \"Tuberculosis\",\n          \"Hypothyroidism\",\n          \"Varicose veins\"\n        ],\n        \"semantic_type\": \"\",\n        \"description\": \"\"\n      }\n    },\n    {\n      \"column\": \"Symptom_1\",\n      \"properties\": {\n        \"dtype\": \"category\",\n        \"num_unique_values\": 32,\n        \"samples\": [\n          \" neck_pain\",\n          \" acidity\",\n          \" sunken_eyes\"\n        ],\n        \"semantic_type\": \"\",\n        \"description\": \"\"\n      }\n    },\n    {\n      \"column\": \"Symptom_2\",\n      \"properties\": {\n        \"dtype\": \"category\",\n        \"num_unique_values\": 44,\n        \"samples\": [\n          \" swelling_joints\",\n          \" pain_during_bowel_movements\",\n          \" anxiety\"\n        ],\n        \"semantic_type\": \"\",\n        \"description\": \"\"\n      }\n    },\n    {\n      \"column\": \"Symptom_3\",\n      \"properties\": {\n        \"dtype\": \"category\",\n        \"num_unique_values\": 52,\n        \"samples\": [\n          \" skin_peeling\",\n          \" hip_joint_pain\",\n          \" diarrhoea\"\n        ],\n        \"semantic_type\": \"\",\n        \"description\": \"\"\n      }\n    },\n    {\n      \"column\": \"Symptom_4\",\n      \"properties\": {\n        \"dtype\": \"category\",\n        \"num_unique_values\": 45,\n        \"samples\": [\n          \" scurring\",\n          \" dischromic _patches\",\n          \" spotting_ urination\"\n        ],\n        \"semantic_type\": \"\",\n        \"description\": \"\"\n      }\n    },\n    {\n      \"column\": \"Medication\",\n      \"properties\": {\n        \"dtype\": \"category\",\n        \"num_unique_values\": 34,\n        \"samples\": [\n          \"Antipyretics, Decongestants, Cough suppressants, Antihistamines, Pain relievers\",\n          \"Antiviral drugs, Pain relievers, IV fluids, Blood transfusions, Platelet transfusions\",\n          \"Analgesics, Triptans, Ergotamine derivatives, Preventive medications, Biofeedback\"\n        ],\n        \"semantic_type\": \"\",\n        \"description\": \"\"\n      }\n    },\n    {\n      \"column\": \"BERT_Input\",\n      \"properties\": {\n        \"dtype\": \"category\",\n        \"num_unique_values\": 146,\n        \"samples\": [\n          \"Jaundice have symptoms itching,  vomiting and  fatigue for which IV fluids is used to cure.\",\n          \"Dengue have symptoms  skin_rash,  joint_pain and  vomiting for which Antibiotics is used to cure.\",\n          \"Pneumonia have symptoms  chills,  fatigue and  cough for which Laxatives is used to cure.\"\n        ],\n        \"semantic_type\": \"\",\n        \"description\": \"\"\n      }\n    }\n  ]\n}",
              "type": "dataframe",
              "variable_name": "df"
            },
            "text/html": [
              "\n",
              "  <div id=\"df-2cccd501-de7c-40c5-b3f6-e7f2ca4ee38f\" class=\"colab-df-container\">\n",
              "    <div>\n",
              "<style scoped>\n",
              "    .dataframe tbody tr th:only-of-type {\n",
              "        vertical-align: middle;\n",
              "    }\n",
              "\n",
              "    .dataframe tbody tr th {\n",
              "        vertical-align: top;\n",
              "    }\n",
              "\n",
              "    .dataframe thead th {\n",
              "        text-align: right;\n",
              "    }\n",
              "</style>\n",
              "<table border=\"1\" class=\"dataframe\">\n",
              "  <thead>\n",
              "    <tr style=\"text-align: right;\">\n",
              "      <th></th>\n",
              "      <th>Unnamed: 0</th>\n",
              "      <th>Disease</th>\n",
              "      <th>Symptom_1</th>\n",
              "      <th>Symptom_2</th>\n",
              "      <th>Symptom_3</th>\n",
              "      <th>Symptom_4</th>\n",
              "      <th>Medication</th>\n",
              "      <th>BERT_Input</th>\n",
              "    </tr>\n",
              "  </thead>\n",
              "  <tbody>\n",
              "    <tr>\n",
              "      <th>2451</th>\n",
              "      <td>2718</td>\n",
              "      <td>Cervical spondylosis</td>\n",
              "      <td>back_pain</td>\n",
              "      <td>weakness_in_limbs</td>\n",
              "      <td>neck_pain</td>\n",
              "      <td>dizziness</td>\n",
              "      <td>Pain relievers, Muscle relaxants, Physical the...</td>\n",
              "      <td>Cervical spondylosis have symptoms  back_pain,...</td>\n",
              "    </tr>\n",
              "    <tr>\n",
              "      <th>4084</th>\n",
              "      <td>4527</td>\n",
              "      <td>Dengue</td>\n",
              "      <td>skin_rash</td>\n",
              "      <td>chills</td>\n",
              "      <td>joint_pain</td>\n",
              "      <td>vomiting</td>\n",
              "      <td>Antibiotics, Antipyretics, Analgesics, IV flui...</td>\n",
              "      <td>Dengue have symptoms  skin_rash,  chills and  ...</td>\n",
              "    </tr>\n",
              "    <tr>\n",
              "      <th>2589</th>\n",
              "      <td>2869</td>\n",
              "      <td>Impetigo</td>\n",
              "      <td>skin_rash</td>\n",
              "      <td>high_fever</td>\n",
              "      <td>blister</td>\n",
              "      <td>red_sore_around_nose</td>\n",
              "      <td>Topical antibiotics, Oral antibiotics, Antisep...</td>\n",
              "      <td>Impetigo have symptoms  skin_rash,  high_fever...</td>\n",
              "    </tr>\n",
              "    <tr>\n",
              "      <th>478</th>\n",
              "      <td>548</td>\n",
              "      <td>Paralysis (brain hemorrhage)</td>\n",
              "      <td>vomiting</td>\n",
              "      <td>weakness_of_one_body_side</td>\n",
              "      <td>altered_sensorium</td>\n",
              "      <td>NaN</td>\n",
              "      <td>Blood thinners, Clot-dissolving medications, A...</td>\n",
              "      <td>Paralysis (brain hemorrhage) have symptoms  vo...</td>\n",
              "    </tr>\n",
              "    <tr>\n",
              "      <th>1752</th>\n",
              "      <td>1942</td>\n",
              "      <td>Varicose veins</td>\n",
              "      <td>cramps</td>\n",
              "      <td>bruising</td>\n",
              "      <td>obesity</td>\n",
              "      <td>swollen_legs</td>\n",
              "      <td>Levothyroxine, Antithyroid medications, Beta-b...</td>\n",
              "      <td>Varicose veins have symptoms  cramps,  bruisin...</td>\n",
              "    </tr>\n",
              "  </tbody>\n",
              "</table>\n",
              "</div>\n",
              "    <div class=\"colab-df-buttons\">\n",
              "\n",
              "  <div class=\"colab-df-container\">\n",
              "    <button class=\"colab-df-convert\" onclick=\"convertToInteractive('df-2cccd501-de7c-40c5-b3f6-e7f2ca4ee38f')\"\n",
              "            title=\"Convert this dataframe to an interactive table.\"\n",
              "            style=\"display:none;\">\n",
              "\n",
              "  <svg xmlns=\"http://www.w3.org/2000/svg\" height=\"24px\" viewBox=\"0 -960 960 960\">\n",
              "    <path d=\"M120-120v-720h720v720H120Zm60-500h600v-160H180v160Zm220 220h160v-160H400v160Zm0 220h160v-160H400v160ZM180-400h160v-160H180v160Zm440 0h160v-160H620v160ZM180-180h160v-160H180v160Zm440 0h160v-160H620v160Z\"/>\n",
              "  </svg>\n",
              "    </button>\n",
              "\n",
              "  <style>\n",
              "    .colab-df-container {\n",
              "      display:flex;\n",
              "      gap: 12px;\n",
              "    }\n",
              "\n",
              "    .colab-df-convert {\n",
              "      background-color: #E8F0FE;\n",
              "      border: none;\n",
              "      border-radius: 50%;\n",
              "      cursor: pointer;\n",
              "      display: none;\n",
              "      fill: #1967D2;\n",
              "      height: 32px;\n",
              "      padding: 0 0 0 0;\n",
              "      width: 32px;\n",
              "    }\n",
              "\n",
              "    .colab-df-convert:hover {\n",
              "      background-color: #E2EBFA;\n",
              "      box-shadow: 0px 1px 2px rgba(60, 64, 67, 0.3), 0px 1px 3px 1px rgba(60, 64, 67, 0.15);\n",
              "      fill: #174EA6;\n",
              "    }\n",
              "\n",
              "    .colab-df-buttons div {\n",
              "      margin-bottom: 4px;\n",
              "    }\n",
              "\n",
              "    [theme=dark] .colab-df-convert {\n",
              "      background-color: #3B4455;\n",
              "      fill: #D2E3FC;\n",
              "    }\n",
              "\n",
              "    [theme=dark] .colab-df-convert:hover {\n",
              "      background-color: #434B5C;\n",
              "      box-shadow: 0px 1px 3px 1px rgba(0, 0, 0, 0.15);\n",
              "      filter: drop-shadow(0px 1px 2px rgba(0, 0, 0, 0.3));\n",
              "      fill: #FFFFFF;\n",
              "    }\n",
              "  </style>\n",
              "\n",
              "    <script>\n",
              "      const buttonEl =\n",
              "        document.querySelector('#df-2cccd501-de7c-40c5-b3f6-e7f2ca4ee38f button.colab-df-convert');\n",
              "      buttonEl.style.display =\n",
              "        google.colab.kernel.accessAllowed ? 'block' : 'none';\n",
              "\n",
              "      async function convertToInteractive(key) {\n",
              "        const element = document.querySelector('#df-2cccd501-de7c-40c5-b3f6-e7f2ca4ee38f');\n",
              "        const dataTable =\n",
              "          await google.colab.kernel.invokeFunction('convertToInteractive',\n",
              "                                                    [key], {});\n",
              "        if (!dataTable) return;\n",
              "\n",
              "        const docLinkHtml = 'Like what you see? Visit the ' +\n",
              "          '<a target=\"_blank\" href=https://colab.research.google.com/notebooks/data_table.ipynb>data table notebook</a>'\n",
              "          + ' to learn more about interactive tables.';\n",
              "        element.innerHTML = '';\n",
              "        dataTable['output_type'] = 'display_data';\n",
              "        await google.colab.output.renderOutput(dataTable, element);\n",
              "        const docLink = document.createElement('div');\n",
              "        docLink.innerHTML = docLinkHtml;\n",
              "        element.appendChild(docLink);\n",
              "      }\n",
              "    </script>\n",
              "  </div>\n",
              "\n",
              "\n",
              "<div id=\"df-0623045b-4250-4035-bf30-713784838d14\">\n",
              "  <button class=\"colab-df-quickchart\" onclick=\"quickchart('df-0623045b-4250-4035-bf30-713784838d14')\"\n",
              "            title=\"Suggest charts\"\n",
              "            style=\"display:none;\">\n",
              "\n",
              "<svg xmlns=\"http://www.w3.org/2000/svg\" height=\"24px\"viewBox=\"0 0 24 24\"\n",
              "     width=\"24px\">\n",
              "    <g>\n",
              "        <path d=\"M19 3H5c-1.1 0-2 .9-2 2v14c0 1.1.9 2 2 2h14c1.1 0 2-.9 2-2V5c0-1.1-.9-2-2-2zM9 17H7v-7h2v7zm4 0h-2V7h2v10zm4 0h-2v-4h2v4z\"/>\n",
              "    </g>\n",
              "</svg>\n",
              "  </button>\n",
              "\n",
              "<style>\n",
              "  .colab-df-quickchart {\n",
              "      --bg-color: #E8F0FE;\n",
              "      --fill-color: #1967D2;\n",
              "      --hover-bg-color: #E2EBFA;\n",
              "      --hover-fill-color: #174EA6;\n",
              "      --disabled-fill-color: #AAA;\n",
              "      --disabled-bg-color: #DDD;\n",
              "  }\n",
              "\n",
              "  [theme=dark] .colab-df-quickchart {\n",
              "      --bg-color: #3B4455;\n",
              "      --fill-color: #D2E3FC;\n",
              "      --hover-bg-color: #434B5C;\n",
              "      --hover-fill-color: #FFFFFF;\n",
              "      --disabled-bg-color: #3B4455;\n",
              "      --disabled-fill-color: #666;\n",
              "  }\n",
              "\n",
              "  .colab-df-quickchart {\n",
              "    background-color: var(--bg-color);\n",
              "    border: none;\n",
              "    border-radius: 50%;\n",
              "    cursor: pointer;\n",
              "    display: none;\n",
              "    fill: var(--fill-color);\n",
              "    height: 32px;\n",
              "    padding: 0;\n",
              "    width: 32px;\n",
              "  }\n",
              "\n",
              "  .colab-df-quickchart:hover {\n",
              "    background-color: var(--hover-bg-color);\n",
              "    box-shadow: 0 1px 2px rgba(60, 64, 67, 0.3), 0 1px 3px 1px rgba(60, 64, 67, 0.15);\n",
              "    fill: var(--button-hover-fill-color);\n",
              "  }\n",
              "\n",
              "  .colab-df-quickchart-complete:disabled,\n",
              "  .colab-df-quickchart-complete:disabled:hover {\n",
              "    background-color: var(--disabled-bg-color);\n",
              "    fill: var(--disabled-fill-color);\n",
              "    box-shadow: none;\n",
              "  }\n",
              "\n",
              "  .colab-df-spinner {\n",
              "    border: 2px solid var(--fill-color);\n",
              "    border-color: transparent;\n",
              "    border-bottom-color: var(--fill-color);\n",
              "    animation:\n",
              "      spin 1s steps(1) infinite;\n",
              "  }\n",
              "\n",
              "  @keyframes spin {\n",
              "    0% {\n",
              "      border-color: transparent;\n",
              "      border-bottom-color: var(--fill-color);\n",
              "      border-left-color: var(--fill-color);\n",
              "    }\n",
              "    20% {\n",
              "      border-color: transparent;\n",
              "      border-left-color: var(--fill-color);\n",
              "      border-top-color: var(--fill-color);\n",
              "    }\n",
              "    30% {\n",
              "      border-color: transparent;\n",
              "      border-left-color: var(--fill-color);\n",
              "      border-top-color: var(--fill-color);\n",
              "      border-right-color: var(--fill-color);\n",
              "    }\n",
              "    40% {\n",
              "      border-color: transparent;\n",
              "      border-right-color: var(--fill-color);\n",
              "      border-top-color: var(--fill-color);\n",
              "    }\n",
              "    60% {\n",
              "      border-color: transparent;\n",
              "      border-right-color: var(--fill-color);\n",
              "    }\n",
              "    80% {\n",
              "      border-color: transparent;\n",
              "      border-right-color: var(--fill-color);\n",
              "      border-bottom-color: var(--fill-color);\n",
              "    }\n",
              "    90% {\n",
              "      border-color: transparent;\n",
              "      border-bottom-color: var(--fill-color);\n",
              "    }\n",
              "  }\n",
              "</style>\n",
              "\n",
              "  <script>\n",
              "    async function quickchart(key) {\n",
              "      const quickchartButtonEl =\n",
              "        document.querySelector('#' + key + ' button');\n",
              "      quickchartButtonEl.disabled = true;  // To prevent multiple clicks.\n",
              "      quickchartButtonEl.classList.add('colab-df-spinner');\n",
              "      try {\n",
              "        const charts = await google.colab.kernel.invokeFunction(\n",
              "            'suggestCharts', [key], {});\n",
              "      } catch (error) {\n",
              "        console.error('Error during call to suggestCharts:', error);\n",
              "      }\n",
              "      quickchartButtonEl.classList.remove('colab-df-spinner');\n",
              "      quickchartButtonEl.classList.add('colab-df-quickchart-complete');\n",
              "    }\n",
              "    (() => {\n",
              "      let quickchartButtonEl =\n",
              "        document.querySelector('#df-0623045b-4250-4035-bf30-713784838d14 button');\n",
              "      quickchartButtonEl.style.display =\n",
              "        google.colab.kernel.accessAllowed ? 'block' : 'none';\n",
              "    })();\n",
              "  </script>\n",
              "</div>\n",
              "\n",
              "    </div>\n",
              "  </div>\n"
            ],
            "text/plain": [
              "      Unnamed: 0                       Disease   Symptom_1  \\\n",
              "2451        2718          Cervical spondylosis   back_pain   \n",
              "4084        4527                        Dengue   skin_rash   \n",
              "2589        2869                      Impetigo   skin_rash   \n",
              "478          548  Paralysis (brain hemorrhage)    vomiting   \n",
              "1752        1942                Varicose veins      cramps   \n",
              "\n",
              "                       Symptom_2           Symptom_3              Symptom_4  \\\n",
              "2451           weakness_in_limbs           neck_pain              dizziness   \n",
              "4084                      chills          joint_pain               vomiting   \n",
              "2589                  high_fever             blister   red_sore_around_nose   \n",
              "478    weakness_of_one_body_side   altered_sensorium                    NaN   \n",
              "1752                    bruising             obesity           swollen_legs   \n",
              "\n",
              "                                             Medication  \\\n",
              "2451  Pain relievers, Muscle relaxants, Physical the...   \n",
              "4084  Antibiotics, Antipyretics, Analgesics, IV flui...   \n",
              "2589  Topical antibiotics, Oral antibiotics, Antisep...   \n",
              "478   Blood thinners, Clot-dissolving medications, A...   \n",
              "1752  Levothyroxine, Antithyroid medications, Beta-b...   \n",
              "\n",
              "                                             BERT_Input  \n",
              "2451  Cervical spondylosis have symptoms  back_pain,...  \n",
              "4084  Dengue have symptoms  skin_rash,  chills and  ...  \n",
              "2589  Impetigo have symptoms  skin_rash,  high_fever...  \n",
              "478   Paralysis (brain hemorrhage) have symptoms  vo...  \n",
              "1752  Varicose veins have symptoms  cramps,  bruisin...  "
            ]
          },
          "execution_count": 35,
          "metadata": {},
          "output_type": "execute_result"
        }
      ],
      "source": [
        "df.head()"
      ]
    },
    {
      "cell_type": "code",
      "execution_count": 34,
      "metadata": {
        "id": "8z3fh3pNU_BZ"
      },
      "outputs": [],
      "source": [
        "df['Name'] = df['Medication'].apply(lambda x: x.split(',')[0] if isinstance(x, str) else x)"
      ]
    },
    {
      "cell_type": "code",
      "execution_count": 35,
      "metadata": {
        "colab": {
          "base_uri": "https://localhost:8080/",
          "height": 241
        },
        "id": "9uAKJPcZVO3s",
        "outputId": "0726f9fe-ce28-4ac0-e84d-e680973052ca"
      },
      "outputs": [
        {
          "data": {
            "text/html": [
              "<div>\n",
              "<style scoped>\n",
              "    .dataframe tbody tr th:only-of-type {\n",
              "        vertical-align: middle;\n",
              "    }\n",
              "\n",
              "    .dataframe tbody tr th {\n",
              "        vertical-align: top;\n",
              "    }\n",
              "\n",
              "    .dataframe thead th {\n",
              "        text-align: right;\n",
              "    }\n",
              "</style>\n",
              "<table border=\"1\" class=\"dataframe\">\n",
              "  <thead>\n",
              "    <tr style=\"text-align: right;\">\n",
              "      <th></th>\n",
              "      <th>Name</th>\n",
              "    </tr>\n",
              "  </thead>\n",
              "  <tbody>\n",
              "    <tr>\n",
              "      <th>2451</th>\n",
              "      <td>Pain relievers</td>\n",
              "    </tr>\n",
              "    <tr>\n",
              "      <th>4084</th>\n",
              "      <td>Antibiotics</td>\n",
              "    </tr>\n",
              "    <tr>\n",
              "      <th>2589</th>\n",
              "      <td>Topical antibiotics</td>\n",
              "    </tr>\n",
              "    <tr>\n",
              "      <th>478</th>\n",
              "      <td>Blood thinners</td>\n",
              "    </tr>\n",
              "    <tr>\n",
              "      <th>1752</th>\n",
              "      <td>Levothyroxine</td>\n",
              "    </tr>\n",
              "  </tbody>\n",
              "</table>\n",
              "</div><br><label><b>dtype:</b> object</label>"
            ],
            "text/plain": [
              "2451         Pain relievers\n",
              "4084            Antibiotics\n",
              "2589    Topical antibiotics\n",
              "478          Blood thinners\n",
              "1752          Levothyroxine\n",
              "Name: Name, dtype: object"
            ]
          },
          "execution_count": 35,
          "metadata": {},
          "output_type": "execute_result"
        }
      ],
      "source": [
        "df['Name'].head()"
      ]
    },
    {
      "cell_type": "code",
      "execution_count": 36,
      "metadata": {
        "id": "hV9jUSReQN36"
      },
      "outputs": [],
      "source": [
        "Data = df['BERT_Input'].tolist()\n",
        "Names = df['Name'].tolist()\n",
        "Queries = new_df['Symptom_Text'].tolist()"
      ]
    },
    {
      "cell_type": "code",
      "execution_count": 37,
      "metadata": {
        "colab": {
          "base_uri": "https://localhost:8080/",
          "height": 35
        },
        "id": "zmzM6ovvSF5G",
        "outputId": "45258f89-a791-4a05-f9ed-233dd2812e39"
      },
      "outputs": [
        {
          "data": {
            "application/vnd.google.colaboratory.intrinsic+json": {
              "type": "string"
            },
            "text/plain": [
              "' high_fever,  blister,  red_sore_around_nose'"
            ]
          },
          "execution_count": 37,
          "metadata": {},
          "output_type": "execute_result"
        }
      ],
      "source": [
        "Queries[0]"
      ]
    },
    {
      "cell_type": "markdown",
      "metadata": {
        "id": "kGXas2TwYbIo"
      },
      "source": [
        "## Embeddings"
      ]
    },
    {
      "cell_type": "code",
      "execution_count": 38,
      "metadata": {
        "colab": {
          "base_uri": "https://localhost:8080/"
        },
        "id": "Di1FIBmObD8n",
        "outputId": "5729579c-b065-45f6-cc22-f3c32c66b281"
      },
      "outputs": [
        {
          "name": "stdout",
          "output_type": "stream",
          "text": [
            "(4240, 768)\n",
            "(200, 768)\n"
          ]
        }
      ],
      "source": [
        "embeddings = generate_embeddings(Data, tokenizer, model, Bert=None)\n",
        "print(embeddings.shape)\n",
        "query_embeddings = generate_embeddings(Queries, tokenizer, model, query=True, Bert=None)\n",
        "print(query_embeddings.shape)"
      ]
    },
    {
      "cell_type": "code",
      "execution_count": 39,
      "metadata": {
        "id": "XfzyP8eqlyAh"
      },
      "outputs": [],
      "source": [
        "os.makedirs('/content/Dataset1/Embeddings', exist_ok=True)\n",
        "np.save(\"/content/Dataset1/Embeddings/embeddings.npy\", embeddings)\n",
        "np.save(\"/content/Dataset1/Embeddings/query_embeddings.npy\", query_embeddings)\n",
        "\n"
      ]
    },
    {
      "cell_type": "markdown",
      "metadata": {
        "id": "7mjAqX3SNzy5"
      },
      "source": [
        "# Recommendation"
      ]
    },
    {
      "cell_type": "markdown",
      "metadata": {
        "id": "Zx0-Brksf1fh"
      },
      "source": [
        "## Dataset 2 Emb REC"
      ]
    },
    {
      "cell_type": "code",
      "execution_count": 21,
      "metadata": {
        "colab": {
          "base_uri": "https://localhost:8080/"
        },
        "id": "76ulvRjfl6yv",
        "outputId": "b644a5df-cdc0-470a-e6bc-82ca67935089"
      },
      "outputs": [
        {
          "name": "stdout",
          "output_type": "stream",
          "text": [
            "Loaded embeddings shape: (33909, 768)\n",
            "Loaded query embeddings shape: (200, 768)\n"
          ]
        }
      ],
      "source": [
        "embeddings = np.load(\"/content/Dataset2/Embeddings/embeddings.npy\")\n",
        "query_embeddings = np.load(\"/content/Dataset2/Embeddings/query_embeddings.npy\")\n",
        "\n",
        "print(f\"Loaded embeddings shape: {embeddings.shape}\")\n",
        "print(f\"Loaded query embeddings shape: {query_embeddings.shape}\")"
      ]
    },
    {
      "cell_type": "markdown",
      "metadata": {
        "id": "xCBbp-iSYNP7"
      },
      "source": [
        "### LSH"
      ]
    },
    {
      "cell_type": "code",
      "execution_count": 22,
      "metadata": {
        "id": "2xtbWYIGruxR"
      },
      "outputs": [],
      "source": [
        "class LSHIndex:\n",
        "    def __init__(self, hash_size=8, input_dim=None):\n",
        "        \"\"\"\n",
        "        Initialize the LSHIndex.\n",
        "\n",
        "        Parameters\n",
        "        ----------\n",
        "        hash_size : int, optional\n",
        "            The hash size for LSHash, by default 8.\n",
        "        input_dim : int, optional\n",
        "            The dimension of the input embeddings.\n",
        "            If None, it will be inferred from the given embeddings.\n",
        "        \"\"\"\n",
        "        self.hash_size = hash_size\n",
        "        self.input_dim = input_dim\n",
        "        self.lsh = None\n",
        "        self.texts = None\n",
        "\n",
        "    def build_index(self, embeddings, texts):\n",
        "        \"\"\"\n",
        "        Build the LSH index for the provided embeddings.\n",
        "\n",
        "        Parameters\n",
        "        ----------\n",
        "        embeddings : np.ndarray\n",
        "            A 2D array of shape (N, D), where N is the number of items and D is the embedding dimension.\n",
        "        texts : list of str\n",
        "            A list of texts corresponding to each embedding.\n",
        "\n",
        "        Returns\n",
        "        -------\n",
        "        LSHash\n",
        "            The LSHash object containing the hash tables.\n",
        "        \"\"\"\n",
        "        embeddings = np.array(embeddings)\n",
        "        if self.input_dim is None:\n",
        "            self.input_dim = embeddings.shape[1]\n",
        "        self.lsh = LSHash(hash_size=self.hash_size, input_dim=self.input_dim)\n",
        "\n",
        "        for emb, txt in zip(embeddings, texts):\n",
        "            self.lsh.index(emb, extra_data=txt)\n",
        "\n",
        "        self.texts = texts\n",
        "        return self.lsh\n",
        "\n",
        "    def query(self, query_embedding, num_results=5):\n",
        "        \"\"\"\n",
        "        Query the LSH index for similar items to a given query embedding.\n",
        "\n",
        "        Parameters\n",
        "        ----------\n",
        "        query_embedding : np.ndarray\n",
        "            A 1D array of shape (D,) representing the query embedding.\n",
        "        num_results : int, optional\n",
        "            How many nearest neighbors to return, by default 5.\n",
        "\n",
        "        Returns\n",
        "        -------\n",
        "        list of dict\n",
        "            A list of dictionaries containing 'text', 'distance', and 'similarity' for each retrieved item.\n",
        "        \"\"\"\n",
        "        if self.lsh is None:\n",
        "            raise ValueError(\"LSH index has not been built. Please call build_index() first.\")\n",
        "\n",
        "        results = self.lsh.query(query_embedding, num_results=num_results)\n",
        "        results_info = []\n",
        "        for result in results:\n",
        "            neighbor_data = result[0]\n",
        "            distance = result[1]\n",
        "            neighbor_text = neighbor_data[1]\n",
        "            similarity = 1.0 / (1.0 + distance)\n",
        "\n",
        "            results_info.append({\n",
        "                'text': neighbor_text,\n",
        "                'distance': distance,\n",
        "                'similarity': similarity\n",
        "            })\n",
        "\n",
        "        return results_info\n",
        "\n",
        "\n"
      ]
    },
    {
      "cell_type": "code",
      "execution_count": 25,
      "metadata": {
        "colab": {
          "base_uri": "https://localhost:8080/"
        },
        "id": "yuDmlN1jBche",
        "outputId": "8cad955a-1ce5-4653-bd45-a4c03f3af98b"
      },
      "outputs": [
        {
          "name": "stdout",
          "output_type": "stream",
          "text": [
            "Disease : Treatment of Primary biliary cirrhosis Treatment of Gallbladder stones\n",
            "Actual Drug: Fortibile 300 Tablet\n",
            "Medication: Ubchol Tablet Distance: 0.42896031976732374 Similarity: 0.6998094951739661\n",
            "Medication: Xysolic 300 Tablet Distance: 0.46542395013586135 Similarity: 0.6823963808611758\n",
            "Medication: Udiclear Tablet 300 Distance: 0.47042340466556437 Similarity: 0.6800762262264465\n"
          ]
        }
      ],
      "source": [
        "# Clinical Bert Embeddings\n",
        "index = 40\n",
        "if __name__ == \"__main__\":\n",
        "    lsh_index = LSHIndex(hash_size=8)\n",
        "    lsh_index.build_index(embeddings, Names)\n",
        "    results = lsh_index.query(query_embeddings[index], num_results=3)\n",
        "\n",
        "print(f\"Disease : {Queries[index]}\")\n",
        "Actual_Drug = new_df[new_df['Uses'].str.contains(f'{Queries[index]}', case=False, na=False)]['Name'].iloc[0]\n",
        "print(f\"Actual Drug: {Actual_Drug}\")\n",
        "for rec in results:\n",
        "    print(\"Medication:\", rec['text'],\n",
        "          \"Distance:\", rec['distance'],\n",
        "          \"Similarity:\", rec['similarity'])\n",
        "\n"
      ]
    },
    {
      "cell_type": "code",
      "execution_count": null,
      "metadata": {
        "colab": {
          "base_uri": "https://localhost:8080/"
        },
        "id": "uxE7q71brx_Z",
        "outputId": "95ab0efd-64b8-4659-9c69-7ea0b9efa9ef"
      },
      "outputs": [
        {
          "name": "stdout",
          "output_type": "stream",
          "text": [
            "Disease : Treatment of Depression Treatment of Anxiety disorder Treatment of Panic disorder\n",
            "Actual Drug: Essita 10 Tablet\n",
            "Medication: Uprise-D3 6L Injection 1ml Distance: 356.7732183463764 Similarity: 0.0027950666755381754\n",
            "Medication: Uprise-D3 6L Injection 1ml Distance: 356.77326448501617 Similarity: 0.0027950663150848177\n",
            "Medication: Uprise-D3 6L Injection 1ml Distance: 356.7732663959275 Similarity: 0.002795066300156022\n",
            "Time taken for execution: 4.00 seconds\n"
          ]
        }
      ],
      "source": [
        "# PubMed Embeddings\n",
        "\n",
        "start_time = time()\n",
        "index = 50\n",
        "if __name__ == \"__main__\":\n",
        "    lsh_index = LSHIndex(hash_size=8)\n",
        "    lsh_index.build_index(embeddings, Names)\n",
        "    results = lsh_index.query(query_embeddings[index], num_results=3)\n",
        "\n",
        "print(f\"Disease : {Queries[index]}\")\n",
        "Actual_Drug = new_df[new_df['Uses'].str.contains(f'{Queries[index]}', case=False, na=False)]['Name'].iloc[0]\n",
        "print(f\"Actual Drug: {Actual_Drug}\")\n",
        "for rec in results:\n",
        "    print(\"Medication:\", rec['text'],\n",
        "          \"Distance:\", rec['distance'],\n",
        "          \"Similarity:\", rec['similarity'])\n",
        "\n",
        "end_time = time()\n",
        "print(f\"Time taken for execution: {end_time - start_time:.2f} seconds\")"
      ]
    },
    {
      "cell_type": "markdown",
      "metadata": {
        "id": "mhCm6soux2zw"
      },
      "source": [
        "### SimHash"
      ]
    },
    {
      "cell_type": "code",
      "execution_count": 26,
      "metadata": {
        "id": "K8xM5nIix1c_"
      },
      "outputs": [],
      "source": [
        "\n",
        "\n",
        "def find_similar_items(text_data, query_text, n_items=3, threshold=0.8):\n",
        "\n",
        "    sim_hash = SimHash()\n",
        "    query_hash = sim_hash.get_hash(query_text)\n",
        "\n",
        "    results = []\n",
        "    for item in text_data:\n",
        "        item_hash = sim_hash.get_hash(item)\n",
        "        similarity = 1 - hamming(query_hash, item_hash) / sim_hash.len_hash\n",
        "        if similarity >= threshold:\n",
        "            results.append((item, similarity))\n",
        "    results.sort(key=lambda x: x[1], reverse=True)\n",
        "    return results[:n_items]\n"
      ]
    },
    {
      "cell_type": "code",
      "execution_count": 27,
      "metadata": {
        "colab": {
          "base_uri": "https://localhost:8080/"
        },
        "id": "XPAs4ESW0gyw",
        "outputId": "1066e5fd-6301-455b-c3a3-3d3b01e21ae8"
      },
      "outputs": [
        {
          "name": "stdout",
          "output_type": "stream",
          "text": [
            "Items similar to Treatment of Depression Treatment of Anxiety disorder Treatment of Panic disorder: \n",
            "\tSimilar Items: Drug Name is Citalin 10 Tablet Which is used for Treatment of Depression Treatment of Anxiety disorder Treatment of Panic disorder\n",
            "\tSimilarity: 0.95\n",
            "\n",
            "\tSimilar Items: Drug Name is Oxetin 20mg Capsule Which is used for Treatment of Depression Treatment of Panic disorder Treatment of Obsessive -compulsive disorder\n",
            "\tSimilarity: 0.94\n",
            "\n",
            "\tSimilar Items: Drug Name is Hepinz-S Tablet Which is used for Treatment of Depression Treatment of Anxiety disorder Treatment of Panic disorder\n",
            "\tSimilarity: 0.94\n",
            "\n",
            "Time taken for execution: 21.79 seconds\n"
          ]
        }
      ],
      "source": [
        "start_time = time()\n",
        "similar_items = find_similar_items(Data, Queries[50], n_items=3, threshold=0.9)\n",
        "print(f\"Items similar to {Queries[50]}: \")\n",
        "for item, score in similar_items:\n",
        "    print(f\"\\tSimilar Items: {item}\\n\\tSimilarity: {score:.2f}\\n\")\n",
        "end_time = time()\n",
        "print(f\"Time taken for execution: {end_time - start_time:.2f} seconds\")"
      ]
    },
    {
      "cell_type": "markdown",
      "metadata": {
        "id": "pCNTgk2OJQNj"
      },
      "source": [
        "### FAISS"
      ]
    },
    {
      "cell_type": "code",
      "execution_count": 28,
      "metadata": {
        "colab": {
          "base_uri": "https://localhost:8080/"
        },
        "id": "fTlIUHblyaEH",
        "outputId": "f5d9b6d0-b337-499c-e4a6-e712eb9fdec8"
      },
      "outputs": [
        {
          "name": "stdout",
          "output_type": "stream",
          "text": [
            "Results for Query Treatment of Allergic conditions:\n",
            "  Rank 1:\n",
            "    Name: Recita 10 Tablet\n",
            "    Distance: 0.38638412952423096\n",
            "  Rank 2:\n",
            "    Name: Recita 10 Tablet\n",
            "    Distance: 0.38638412952423096\n",
            "Results for Query Treatment of Dry eyes:\n",
            "  Rank 1:\n",
            "    Name: Ropark 2 Tablet\n",
            "    Distance: 0.6600545048713684\n",
            "  Rank 2:\n",
            "    Name: Ropark 1 Tablet\n",
            "    Distance: 0.6639074087142944\n",
            "Time taken for execution: 0.13 seconds\n"
          ]
        }
      ],
      "source": [
        "## Clinical Bert Embeddings\n",
        "start_time = time()\n",
        "embedding_dimension = embeddings.shape[1]\n",
        "faiss_index = faiss.IndexFlatL2(embedding_dimension)\n",
        "faiss_index.add(embeddings)\n",
        "\n",
        "k = 2\n",
        "D, I = faiss_index.search(query_embeddings[50:52], k)\n",
        "\n",
        "for query_idx, (distances, indices) in enumerate(zip(D, I)):\n",
        "    print(f\"Results for Query {Queries[query_idx]}:\")\n",
        "    for rank, (distance, idx) in enumerate(zip(distances, indices)):\n",
        "        print(f\"  Rank {rank + 1}:\")\n",
        "        print(f\"    Name: {Names[idx]}\")\n",
        "        print(f\"    Distance: {distance}\")\n",
        "\n",
        "end_time = time()\n",
        "print(f\"Time taken for execution: {end_time - start_time:.2f} seconds\")"
      ]
    },
    {
      "cell_type": "code",
      "execution_count": null,
      "metadata": {
        "colab": {
          "base_uri": "https://localhost:8080/"
        },
        "id": "Xfb3NWJ4lcnw",
        "outputId": "a4c58771-0b51-4513-e1aa-873329ec8032"
      },
      "outputs": [
        {
          "name": "stdout",
          "output_type": "stream",
          "text": [
            "Results for Query Treatment of Allergic conditions:\n",
            "  Rank 1:\n",
            "    Name: Citalin 10 Tablet\n",
            "    Distance: 100.84402465820312\n",
            "  Rank 2:\n",
            "    Name: Ecitelo 10 Tablet\n",
            "    Distance: 104.79631042480469\n",
            "Results for Query Treatment of Dry eyes:\n",
            "  Rank 1:\n",
            "    Name: Ropark 1 Tablet\n",
            "    Distance: 81.0308609008789\n",
            "  Rank 2:\n",
            "    Name: Ropark 2 Tablet\n",
            "    Distance: 81.34697723388672\n",
            "Time taken for execution: 0.16 seconds\n"
          ]
        }
      ],
      "source": [
        "## PubMed Embeddings\n",
        "start_time = time()\n",
        "\n",
        "embedding_dimension = embeddings.shape[1]\n",
        "faiss_index = faiss.IndexFlatL2(embedding_dimension)\n",
        "faiss_index.add(embeddings)\n",
        "\n",
        "k = 2\n",
        "D, I = faiss_index.search(query_embeddings[50:52], k)\n",
        "\n",
        "for query_idx, (distances, indices) in enumerate(zip(D, I)):\n",
        "    print(f\"Results for Query {Queries[query_idx]}:\")\n",
        "    for rank, (distance, idx) in enumerate(zip(distances, indices)):\n",
        "        print(f\"  Rank {rank + 1}:\")\n",
        "        print(f\"    Name: {Names[idx]}\")\n",
        "        print(f\"    Distance: {distance}\")\n",
        "\n",
        "end_time = time()\n",
        "print(f\"Time taken for execution: {end_time - start_time:.2f} seconds\")"
      ]
    },
    {
      "cell_type": "markdown",
      "metadata": {
        "id": "afto19AhgOAY"
      },
      "source": [
        "## Dataset 1 Emb REC"
      ]
    },
    {
      "cell_type": "code",
      "execution_count": 40,
      "metadata": {
        "colab": {
          "base_uri": "https://localhost:8080/"
        },
        "id": "85-jwhalgOAZ",
        "outputId": "25607d2c-23c2-4c49-bee5-83efa857b00c"
      },
      "outputs": [
        {
          "name": "stdout",
          "output_type": "stream",
          "text": [
            "Loaded embeddings shape: (4240, 768)\n",
            "Loaded query embeddings shape: (200, 768)\n"
          ]
        }
      ],
      "source": [
        "import numpy as np\n",
        "embeddings = np.load(\"/content/Dataset1/Embeddings/embeddings.npy\")\n",
        "query_embeddings = np.load(\"/content/Dataset1/Embeddings/query_embeddings.npy\")\n",
        "\n",
        "print(f\"Loaded embeddings shape: {embeddings.shape}\")\n",
        "print(f\"Loaded query embeddings shape: {query_embeddings.shape}\")"
      ]
    },
    {
      "cell_type": "markdown",
      "metadata": {
        "id": "WQeuQcflgOAZ"
      },
      "source": [
        "### LSH"
      ]
    },
    {
      "cell_type": "code",
      "execution_count": 41,
      "metadata": {
        "colab": {
          "base_uri": "https://localhost:8080/"
        },
        "id": "gNs9zvSpgOAb",
        "outputId": "b8368275-027a-42d5-bda8-4628f7fd202c"
      },
      "outputs": [
        {
          "name": "stdout",
          "output_type": "stream",
          "text": [
            "Disease :  vomiting,  sunken_eyes,  dehydration\n",
            "Medication: Analgesics Distance: 2.384138357928096 Similarity: 0.2954961926001866\n",
            "Medication: Analgesics Distance: 2.384138819731854 Similarity: 0.2954961522764117\n",
            "Medication: Analgesics Distance: 2.3841392046436662 Similarity: 0.2954961186666951\n"
          ]
        }
      ],
      "source": [
        "# Example usage:\n",
        "index = 50\n",
        "if __name__ == \"__main__\":\n",
        "    lsh_index = LSHIndex(hash_size=8)\n",
        "    lsh_index.build_index(embeddings, Names)\n",
        "    results = lsh_index.query(query_embeddings[index], num_results=3)\n",
        "\n",
        "    # Print the results\n",
        "    # Print your heading first:\n",
        "print(f\"Disease : {Queries[index]}\")\n",
        "for rec in results:\n",
        "    print(\"Medication:\", rec['text'],\n",
        "          \"Distance:\", rec['distance'],\n",
        "          \"Similarity:\", rec['similarity'])\n",
        "\n"
      ]
    },
    {
      "cell_type": "markdown",
      "metadata": {
        "id": "E0FOVIxpgOAc"
      },
      "source": [
        "### FAISS"
      ]
    },
    {
      "cell_type": "code",
      "execution_count": 42,
      "metadata": {
        "colab": {
          "base_uri": "https://localhost:8080/"
        },
        "id": "kLL87x1KgOAd",
        "outputId": "2ee85837-1a92-4762-b07f-f451c6c1af9c"
      },
      "outputs": [
        {
          "name": "stdout",
          "output_type": "stream",
          "text": [
            "Results for Query  high_fever,  blister,  red_sore_around_nose:\n",
            "  Rank 1:\n",
            "    Data Index: 491\n",
            "    Name: NSAIDs\n",
            "    Distance: 1.6293201446533203\n",
            "  Rank 2:\n",
            "    Data Index: 3670\n",
            "    Name: NSAIDs\n",
            "    Distance: 1.6293201446533203\n",
            "Results for Query  continuous_sneezing,  chills,  fatigue:\n",
            "  Rank 1:\n",
            "    Data Index: 759\n",
            "    Name: Laxatives\n",
            "    Distance: 1.7516061067581177\n",
            "  Rank 2:\n",
            "    Data Index: 964\n",
            "    Name: Laxatives\n",
            "    Distance: 1.7516061067581177\n"
          ]
        }
      ],
      "source": [
        "\n",
        "embedding_dimension = embeddings.shape[1]\n",
        "faiss_index = faiss.IndexFlatL2(embedding_dimension)\n",
        "\n",
        "faiss_index.add(embeddings)\n",
        "k = 2\n",
        "D, I = faiss_index.search(query_embeddings[40:42], k)\n",
        "for query_idx, (distances, indices) in enumerate(zip(D, I)):\n",
        "    print(f\"Results for Query {Queries[query_idx]}:\")\n",
        "    for rank, (distance, idx) in enumerate(zip(distances, indices)):\n",
        "        print(f\"  Rank {rank + 1}:\")\n",
        "        print(f\"    Data Index: {idx}\")\n",
        "        print(f\"    Name: {Names[idx]}\")\n",
        "        print(f\"    Distance: {distance}\")\n"
      ]
    },
    {
      "cell_type": "code",
      "execution_count": null,
      "metadata": {
        "id": "g5qEeTp5gOAd"
      },
      "outputs": [],
      "source": []
    }
  ],
  "metadata": {
    "accelerator": "GPU",
    "colab": {
      "collapsed_sections": [
        "X8NluQK9nWbZ",
        "afto19AhgOAY"
      ],
      "gpuType": "T4",
      "provenance": [],
      "toc_visible": true
    },
    "kernelspec": {
      "display_name": "Python 3",
      "name": "python3"
    },
    "language_info": {
      "name": "python"
    },
    "widgets": {
      "application/vnd.jupyter.widget-state+json": {
        "00326136caa04c5682b95439aec72f5e": {
          "model_module": "@jupyter-widgets/controls",
          "model_module_version": "1.5.0",
          "model_name": "HTMLModel",
          "state": {
            "_dom_classes": [],
            "_model_module": "@jupyter-widgets/controls",
            "_model_module_version": "1.5.0",
            "_model_name": "HTMLModel",
            "_view_count": null,
            "_view_module": "@jupyter-widgets/controls",
            "_view_module_version": "1.5.0",
            "_view_name": "HTMLView",
            "description": "",
            "description_tooltip": null,
            "layout": "IPY_MODEL_f852d821b8f042b696ff79496f2d7124",
            "placeholder": "​",
            "style": "IPY_MODEL_27d8aaea03ac44e7875a507e11f6b3a4",
            "value": " 996k/996k [00:00&lt;00:00, 6.20MB/s]"
          }
        },
        "01a4f11f339f4ff792f2cf07ee15a858": {
          "model_module": "@jupyter-widgets/base",
          "model_module_version": "1.2.0",
          "model_name": "LayoutModel",
          "state": {
            "_model_module": "@jupyter-widgets/base",
            "_model_module_version": "1.2.0",
            "_model_name": "LayoutModel",
            "_view_count": null,
            "_view_module": "@jupyter-widgets/base",
            "_view_module_version": "1.2.0",
            "_view_name": "LayoutView",
            "align_content": null,
            "align_items": null,
            "align_self": null,
            "border": null,
            "bottom": null,
            "display": null,
            "flex": null,
            "flex_flow": null,
            "grid_area": null,
            "grid_auto_columns": null,
            "grid_auto_flow": null,
            "grid_auto_rows": null,
            "grid_column": null,
            "grid_gap": null,
            "grid_row": null,
            "grid_template_areas": null,
            "grid_template_columns": null,
            "grid_template_rows": null,
            "height": null,
            "justify_content": null,
            "justify_items": null,
            "left": null,
            "margin": null,
            "max_height": null,
            "max_width": null,
            "min_height": null,
            "min_width": null,
            "object_fit": null,
            "object_position": null,
            "order": null,
            "overflow": null,
            "overflow_x": null,
            "overflow_y": null,
            "padding": null,
            "right": null,
            "top": null,
            "visibility": null,
            "width": null
          }
        },
        "07689afe582b493294534ced5925f24c": {
          "model_module": "@jupyter-widgets/controls",
          "model_module_version": "1.5.0",
          "model_name": "DescriptionStyleModel",
          "state": {
            "_model_module": "@jupyter-widgets/controls",
            "_model_module_version": "1.5.0",
            "_model_name": "DescriptionStyleModel",
            "_view_count": null,
            "_view_module": "@jupyter-widgets/base",
            "_view_module_version": "1.2.0",
            "_view_name": "StyleView",
            "description_width": ""
          }
        },
        "080f9d2867f149b38d7c29f575af7ee2": {
          "model_module": "@jupyter-widgets/base",
          "model_module_version": "1.2.0",
          "model_name": "LayoutModel",
          "state": {
            "_model_module": "@jupyter-widgets/base",
            "_model_module_version": "1.2.0",
            "_model_name": "LayoutModel",
            "_view_count": null,
            "_view_module": "@jupyter-widgets/base",
            "_view_module_version": "1.2.0",
            "_view_name": "LayoutView",
            "align_content": null,
            "align_items": null,
            "align_self": null,
            "border": null,
            "bottom": null,
            "display": null,
            "flex": null,
            "flex_flow": null,
            "grid_area": null,
            "grid_auto_columns": null,
            "grid_auto_flow": null,
            "grid_auto_rows": null,
            "grid_column": null,
            "grid_gap": null,
            "grid_row": null,
            "grid_template_areas": null,
            "grid_template_columns": null,
            "grid_template_rows": null,
            "height": null,
            "justify_content": null,
            "justify_items": null,
            "left": null,
            "margin": null,
            "max_height": null,
            "max_width": null,
            "min_height": null,
            "min_width": null,
            "object_fit": null,
            "object_position": null,
            "order": null,
            "overflow": null,
            "overflow_x": null,
            "overflow_y": null,
            "padding": null,
            "right": null,
            "top": null,
            "visibility": null,
            "width": null
          }
        },
        "0bf88655ee314519a21ea22058a81063": {
          "model_module": "@jupyter-widgets/controls",
          "model_module_version": "1.5.0",
          "model_name": "ProgressStyleModel",
          "state": {
            "_model_module": "@jupyter-widgets/controls",
            "_model_module_version": "1.5.0",
            "_model_name": "ProgressStyleModel",
            "_view_count": null,
            "_view_module": "@jupyter-widgets/base",
            "_view_module_version": "1.2.0",
            "_view_name": "StyleView",
            "bar_color": null,
            "description_width": ""
          }
        },
        "11ca9e47c85a4073afadb9c858fbc0ed": {
          "model_module": "@jupyter-widgets/base",
          "model_module_version": "1.2.0",
          "model_name": "LayoutModel",
          "state": {
            "_model_module": "@jupyter-widgets/base",
            "_model_module_version": "1.2.0",
            "_model_name": "LayoutModel",
            "_view_count": null,
            "_view_module": "@jupyter-widgets/base",
            "_view_module_version": "1.2.0",
            "_view_name": "LayoutView",
            "align_content": null,
            "align_items": null,
            "align_self": null,
            "border": null,
            "bottom": null,
            "display": null,
            "flex": null,
            "flex_flow": null,
            "grid_area": null,
            "grid_auto_columns": null,
            "grid_auto_flow": null,
            "grid_auto_rows": null,
            "grid_column": null,
            "grid_gap": null,
            "grid_row": null,
            "grid_template_areas": null,
            "grid_template_columns": null,
            "grid_template_rows": null,
            "height": null,
            "justify_content": null,
            "justify_items": null,
            "left": null,
            "margin": null,
            "max_height": null,
            "max_width": null,
            "min_height": null,
            "min_width": null,
            "object_fit": null,
            "object_position": null,
            "order": null,
            "overflow": null,
            "overflow_x": null,
            "overflow_y": null,
            "padding": null,
            "right": null,
            "top": null,
            "visibility": null,
            "width": null
          }
        },
        "15becfc8051f462681d4cbd99aa3179d": {
          "model_module": "@jupyter-widgets/controls",
          "model_module_version": "1.5.0",
          "model_name": "DescriptionStyleModel",
          "state": {
            "_model_module": "@jupyter-widgets/controls",
            "_model_module_version": "1.5.0",
            "_model_name": "DescriptionStyleModel",
            "_view_count": null,
            "_view_module": "@jupyter-widgets/base",
            "_view_module_version": "1.2.0",
            "_view_name": "StyleView",
            "description_width": ""
          }
        },
        "1985baff44294bcab9002d37292068f9": {
          "model_module": "@jupyter-widgets/controls",
          "model_module_version": "1.5.0",
          "model_name": "ProgressStyleModel",
          "state": {
            "_model_module": "@jupyter-widgets/controls",
            "_model_module_version": "1.5.0",
            "_model_name": "ProgressStyleModel",
            "_view_count": null,
            "_view_module": "@jupyter-widgets/base",
            "_view_module_version": "1.2.0",
            "_view_name": "StyleView",
            "bar_color": null,
            "description_width": ""
          }
        },
        "1ec3b351439245b785dbe44f2ac41fe4": {
          "model_module": "@jupyter-widgets/base",
          "model_module_version": "1.2.0",
          "model_name": "LayoutModel",
          "state": {
            "_model_module": "@jupyter-widgets/base",
            "_model_module_version": "1.2.0",
            "_model_name": "LayoutModel",
            "_view_count": null,
            "_view_module": "@jupyter-widgets/base",
            "_view_module_version": "1.2.0",
            "_view_name": "LayoutView",
            "align_content": null,
            "align_items": null,
            "align_self": null,
            "border": null,
            "bottom": null,
            "display": null,
            "flex": null,
            "flex_flow": null,
            "grid_area": null,
            "grid_auto_columns": null,
            "grid_auto_flow": null,
            "grid_auto_rows": null,
            "grid_column": null,
            "grid_gap": null,
            "grid_row": null,
            "grid_template_areas": null,
            "grid_template_columns": null,
            "grid_template_rows": null,
            "height": null,
            "justify_content": null,
            "justify_items": null,
            "left": null,
            "margin": null,
            "max_height": null,
            "max_width": null,
            "min_height": null,
            "min_width": null,
            "object_fit": null,
            "object_position": null,
            "order": null,
            "overflow": null,
            "overflow_x": null,
            "overflow_y": null,
            "padding": null,
            "right": null,
            "top": null,
            "visibility": null,
            "width": null
          }
        },
        "221bb5ca52f7450eab82afc4a9465cc9": {
          "model_module": "@jupyter-widgets/controls",
          "model_module_version": "1.5.0",
          "model_name": "DescriptionStyleModel",
          "state": {
            "_model_module": "@jupyter-widgets/controls",
            "_model_module_version": "1.5.0",
            "_model_name": "DescriptionStyleModel",
            "_view_count": null,
            "_view_module": "@jupyter-widgets/base",
            "_view_module_version": "1.2.0",
            "_view_name": "StyleView",
            "description_width": ""
          }
        },
        "22765a6cd02c4d4cab2d968fc247a402": {
          "model_module": "@jupyter-widgets/controls",
          "model_module_version": "1.5.0",
          "model_name": "HTMLModel",
          "state": {
            "_dom_classes": [],
            "_model_module": "@jupyter-widgets/controls",
            "_model_module_version": "1.5.0",
            "_model_name": "HTMLModel",
            "_view_count": null,
            "_view_module": "@jupyter-widgets/controls",
            "_view_module_version": "1.5.0",
            "_view_name": "HTMLView",
            "description": "",
            "description_tooltip": null,
            "layout": "IPY_MODEL_99f219876c634973853116f1ee77a295",
            "placeholder": "​",
            "style": "IPY_MODEL_4a6a4d5e731848d6b012cbfe7b5d82be",
            "value": " 667/667 [00:00&lt;00:00, 53.3kB/s]"
          }
        },
        "26f142e4793b4c1a857ef2f204c91404": {
          "model_module": "@jupyter-widgets/controls",
          "model_module_version": "1.5.0",
          "model_name": "FloatProgressModel",
          "state": {
            "_dom_classes": [],
            "_model_module": "@jupyter-widgets/controls",
            "_model_module_version": "1.5.0",
            "_model_name": "FloatProgressModel",
            "_view_count": null,
            "_view_module": "@jupyter-widgets/controls",
            "_view_module_version": "1.5.0",
            "_view_name": "ProgressView",
            "bar_style": "success",
            "description": "",
            "description_tooltip": null,
            "layout": "IPY_MODEL_f39ee1242b96434983f1a1b0e38a5261",
            "max": 112,
            "min": 0,
            "orientation": "horizontal",
            "style": "IPY_MODEL_4431c6e738da4fecac0e49a689b527ac",
            "value": 112
          }
        },
        "27d8aaea03ac44e7875a507e11f6b3a4": {
          "model_module": "@jupyter-widgets/controls",
          "model_module_version": "1.5.0",
          "model_name": "DescriptionStyleModel",
          "state": {
            "_model_module": "@jupyter-widgets/controls",
            "_model_module_version": "1.5.0",
            "_model_name": "DescriptionStyleModel",
            "_view_count": null,
            "_view_module": "@jupyter-widgets/base",
            "_view_module_version": "1.2.0",
            "_view_name": "StyleView",
            "description_width": ""
          }
        },
        "2d3bc727227647b1a692c2ea408a936e": {
          "model_module": "@jupyter-widgets/controls",
          "model_module_version": "1.5.0",
          "model_name": "DescriptionStyleModel",
          "state": {
            "_model_module": "@jupyter-widgets/controls",
            "_model_module_version": "1.5.0",
            "_model_name": "DescriptionStyleModel",
            "_view_count": null,
            "_view_module": "@jupyter-widgets/base",
            "_view_module_version": "1.2.0",
            "_view_name": "StyleView",
            "description_width": ""
          }
        },
        "2f0e40ec3a1a48d2b9a9c0b09ca0587e": {
          "model_module": "@jupyter-widgets/controls",
          "model_module_version": "1.5.0",
          "model_name": "HTMLModel",
          "state": {
            "_dom_classes": [],
            "_model_module": "@jupyter-widgets/controls",
            "_model_module_version": "1.5.0",
            "_model_name": "HTMLModel",
            "_view_count": null,
            "_view_module": "@jupyter-widgets/controls",
            "_view_module_version": "1.5.0",
            "_view_name": "HTMLView",
            "description": "",
            "description_tooltip": null,
            "layout": "IPY_MODEL_cd08d1431627454088305f11548774b4",
            "placeholder": "​",
            "style": "IPY_MODEL_15becfc8051f462681d4cbd99aa3179d",
            "value": " 466/466 [00:00&lt;00:00, 9.01kB/s]"
          }
        },
        "3aa7add11ae5412c846b0b4a0952e653": {
          "model_module": "@jupyter-widgets/base",
          "model_module_version": "1.2.0",
          "model_name": "LayoutModel",
          "state": {
            "_model_module": "@jupyter-widgets/base",
            "_model_module_version": "1.2.0",
            "_model_name": "LayoutModel",
            "_view_count": null,
            "_view_module": "@jupyter-widgets/base",
            "_view_module_version": "1.2.0",
            "_view_name": "LayoutView",
            "align_content": null,
            "align_items": null,
            "align_self": null,
            "border": null,
            "bottom": null,
            "display": null,
            "flex": null,
            "flex_flow": null,
            "grid_area": null,
            "grid_auto_columns": null,
            "grid_auto_flow": null,
            "grid_auto_rows": null,
            "grid_column": null,
            "grid_gap": null,
            "grid_row": null,
            "grid_template_areas": null,
            "grid_template_columns": null,
            "grid_template_rows": null,
            "height": null,
            "justify_content": null,
            "justify_items": null,
            "left": null,
            "margin": null,
            "max_height": null,
            "max_width": null,
            "min_height": null,
            "min_width": null,
            "object_fit": null,
            "object_position": null,
            "order": null,
            "overflow": null,
            "overflow_x": null,
            "overflow_y": null,
            "padding": null,
            "right": null,
            "top": null,
            "visibility": null,
            "width": null
          }
        },
        "3d6781e262b84ef39d109e984a7a20d7": {
          "model_module": "@jupyter-widgets/base",
          "model_module_version": "1.2.0",
          "model_name": "LayoutModel",
          "state": {
            "_model_module": "@jupyter-widgets/base",
            "_model_module_version": "1.2.0",
            "_model_name": "LayoutModel",
            "_view_count": null,
            "_view_module": "@jupyter-widgets/base",
            "_view_module_version": "1.2.0",
            "_view_name": "LayoutView",
            "align_content": null,
            "align_items": null,
            "align_self": null,
            "border": null,
            "bottom": null,
            "display": null,
            "flex": null,
            "flex_flow": null,
            "grid_area": null,
            "grid_auto_columns": null,
            "grid_auto_flow": null,
            "grid_auto_rows": null,
            "grid_column": null,
            "grid_gap": null,
            "grid_row": null,
            "grid_template_areas": null,
            "grid_template_columns": null,
            "grid_template_rows": null,
            "height": null,
            "justify_content": null,
            "justify_items": null,
            "left": null,
            "margin": null,
            "max_height": null,
            "max_width": null,
            "min_height": null,
            "min_width": null,
            "object_fit": null,
            "object_position": null,
            "order": null,
            "overflow": null,
            "overflow_x": null,
            "overflow_y": null,
            "padding": null,
            "right": null,
            "top": null,
            "visibility": null,
            "width": null
          }
        },
        "3f7f095dd69942d5a4d09cfbe50b0db2": {
          "model_module": "@jupyter-widgets/controls",
          "model_module_version": "1.5.0",
          "model_name": "ProgressStyleModel",
          "state": {
            "_model_module": "@jupyter-widgets/controls",
            "_model_module_version": "1.5.0",
            "_model_name": "ProgressStyleModel",
            "_view_count": null,
            "_view_module": "@jupyter-widgets/base",
            "_view_module_version": "1.2.0",
            "_view_name": "StyleView",
            "bar_color": null,
            "description_width": ""
          }
        },
        "41beb842d0f14ce482fd59480defb85e": {
          "model_module": "@jupyter-widgets/base",
          "model_module_version": "1.2.0",
          "model_name": "LayoutModel",
          "state": {
            "_model_module": "@jupyter-widgets/base",
            "_model_module_version": "1.2.0",
            "_model_name": "LayoutModel",
            "_view_count": null,
            "_view_module": "@jupyter-widgets/base",
            "_view_module_version": "1.2.0",
            "_view_name": "LayoutView",
            "align_content": null,
            "align_items": null,
            "align_self": null,
            "border": null,
            "bottom": null,
            "display": null,
            "flex": null,
            "flex_flow": null,
            "grid_area": null,
            "grid_auto_columns": null,
            "grid_auto_flow": null,
            "grid_auto_rows": null,
            "grid_column": null,
            "grid_gap": null,
            "grid_row": null,
            "grid_template_areas": null,
            "grid_template_columns": null,
            "grid_template_rows": null,
            "height": null,
            "justify_content": null,
            "justify_items": null,
            "left": null,
            "margin": null,
            "max_height": null,
            "max_width": null,
            "min_height": null,
            "min_width": null,
            "object_fit": null,
            "object_position": null,
            "order": null,
            "overflow": null,
            "overflow_x": null,
            "overflow_y": null,
            "padding": null,
            "right": null,
            "top": null,
            "visibility": null,
            "width": null
          }
        },
        "4312724fb6ae48d09fcf8fdf6e36397c": {
          "model_module": "@jupyter-widgets/controls",
          "model_module_version": "1.5.0",
          "model_name": "HBoxModel",
          "state": {
            "_dom_classes": [],
            "_model_module": "@jupyter-widgets/controls",
            "_model_module_version": "1.5.0",
            "_model_name": "HBoxModel",
            "_view_count": null,
            "_view_module": "@jupyter-widgets/controls",
            "_view_module_version": "1.5.0",
            "_view_name": "HBoxView",
            "box_style": "",
            "children": [
              "IPY_MODEL_7d9976250aa640f781c2c452271108c5",
              "IPY_MODEL_72e628bbfa044026a4906d28937eed8f",
              "IPY_MODEL_8c79b3624a9945d9a31cbf82b2e33f24"
            ],
            "layout": "IPY_MODEL_9a9dc03c548b4a099a42f558cb08feb1"
          }
        },
        "4431c6e738da4fecac0e49a689b527ac": {
          "model_module": "@jupyter-widgets/controls",
          "model_module_version": "1.5.0",
          "model_name": "ProgressStyleModel",
          "state": {
            "_model_module": "@jupyter-widgets/controls",
            "_model_module_version": "1.5.0",
            "_model_name": "ProgressStyleModel",
            "_view_count": null,
            "_view_module": "@jupyter-widgets/base",
            "_view_module_version": "1.2.0",
            "_view_name": "StyleView",
            "bar_color": null,
            "description_width": ""
          }
        },
        "4a6a4d5e731848d6b012cbfe7b5d82be": {
          "model_module": "@jupyter-widgets/controls",
          "model_module_version": "1.5.0",
          "model_name": "DescriptionStyleModel",
          "state": {
            "_model_module": "@jupyter-widgets/controls",
            "_model_module_version": "1.5.0",
            "_model_name": "DescriptionStyleModel",
            "_view_count": null,
            "_view_module": "@jupyter-widgets/base",
            "_view_module_version": "1.2.0",
            "_view_name": "StyleView",
            "description_width": ""
          }
        },
        "4d2d778273a0406186323f90b615794e": {
          "model_module": "@jupyter-widgets/controls",
          "model_module_version": "1.5.0",
          "model_name": "FloatProgressModel",
          "state": {
            "_dom_classes": [],
            "_model_module": "@jupyter-widgets/controls",
            "_model_module_version": "1.5.0",
            "_model_name": "FloatProgressModel",
            "_view_count": null,
            "_view_module": "@jupyter-widgets/controls",
            "_view_module_version": "1.5.0",
            "_view_name": "ProgressView",
            "bar_style": "success",
            "description": "",
            "description_tooltip": null,
            "layout": "IPY_MODEL_dde9e048c66e4c62b8189fde61f1e00b",
            "max": 437995689,
            "min": 0,
            "orientation": "horizontal",
            "style": "IPY_MODEL_a2a586796f434a49a8d2903f12f9b035",
            "value": 437995689
          }
        },
        "4d5dfbf961e04c8494e6ace0f2c611e1": {
          "model_module": "@jupyter-widgets/controls",
          "model_module_version": "1.5.0",
          "model_name": "HBoxModel",
          "state": {
            "_dom_classes": [],
            "_model_module": "@jupyter-widgets/controls",
            "_model_module_version": "1.5.0",
            "_model_name": "HBoxModel",
            "_view_count": null,
            "_view_module": "@jupyter-widgets/controls",
            "_view_module_version": "1.5.0",
            "_view_name": "HBoxView",
            "box_style": "",
            "children": [
              "IPY_MODEL_89c50ebfe62041748169bbc0881bf985",
              "IPY_MODEL_d757a55a10274d71aa3356b0dd6870bb",
              "IPY_MODEL_e0b8bf5c1336477b873ca598e5111c04"
            ],
            "layout": "IPY_MODEL_b94173ba93f5438e9305d86fcefbc1a8"
          }
        },
        "52eeef21116c414482f62990d479c3bc": {
          "model_module": "@jupyter-widgets/controls",
          "model_module_version": "1.5.0",
          "model_name": "DescriptionStyleModel",
          "state": {
            "_model_module": "@jupyter-widgets/controls",
            "_model_module_version": "1.5.0",
            "_model_name": "DescriptionStyleModel",
            "_view_count": null,
            "_view_module": "@jupyter-widgets/base",
            "_view_module_version": "1.2.0",
            "_view_name": "StyleView",
            "description_width": ""
          }
        },
        "62bb0838ff88437189c15d01c027dbd0": {
          "model_module": "@jupyter-widgets/base",
          "model_module_version": "1.2.0",
          "model_name": "LayoutModel",
          "state": {
            "_model_module": "@jupyter-widgets/base",
            "_model_module_version": "1.2.0",
            "_model_name": "LayoutModel",
            "_view_count": null,
            "_view_module": "@jupyter-widgets/base",
            "_view_module_version": "1.2.0",
            "_view_name": "LayoutView",
            "align_content": null,
            "align_items": null,
            "align_self": null,
            "border": null,
            "bottom": null,
            "display": null,
            "flex": null,
            "flex_flow": null,
            "grid_area": null,
            "grid_auto_columns": null,
            "grid_auto_flow": null,
            "grid_auto_rows": null,
            "grid_column": null,
            "grid_gap": null,
            "grid_row": null,
            "grid_template_areas": null,
            "grid_template_columns": null,
            "grid_template_rows": null,
            "height": null,
            "justify_content": null,
            "justify_items": null,
            "left": null,
            "margin": null,
            "max_height": null,
            "max_width": null,
            "min_height": null,
            "min_width": null,
            "object_fit": null,
            "object_position": null,
            "order": null,
            "overflow": null,
            "overflow_x": null,
            "overflow_y": null,
            "padding": null,
            "right": null,
            "top": null,
            "visibility": null,
            "width": null
          }
        },
        "63d184c7d452428e9e824218dc9e45b8": {
          "model_module": "@jupyter-widgets/controls",
          "model_module_version": "1.5.0",
          "model_name": "ProgressStyleModel",
          "state": {
            "_model_module": "@jupyter-widgets/controls",
            "_model_module_version": "1.5.0",
            "_model_name": "ProgressStyleModel",
            "_view_count": null,
            "_view_module": "@jupyter-widgets/base",
            "_view_module_version": "1.2.0",
            "_view_name": "StyleView",
            "bar_color": null,
            "description_width": ""
          }
        },
        "65834cc090d148c7bf1b9f89161a24a2": {
          "model_module": "@jupyter-widgets/controls",
          "model_module_version": "1.5.0",
          "model_name": "HTMLModel",
          "state": {
            "_dom_classes": [],
            "_model_module": "@jupyter-widgets/controls",
            "_model_module_version": "1.5.0",
            "_model_name": "HTMLModel",
            "_view_count": null,
            "_view_module": "@jupyter-widgets/controls",
            "_view_module_version": "1.5.0",
            "_view_name": "HTMLView",
            "description": "",
            "description_tooltip": null,
            "layout": "IPY_MODEL_8606fbb299b6426d94892c5024c7b09a",
            "placeholder": "​",
            "style": "IPY_MODEL_7ed96a8c415b4cb0a110ab0a923bc380",
            "value": "pytorch_model.bin: 100%"
          }
        },
        "6e5b76c85b834080987876217c08cb15": {
          "model_module": "@jupyter-widgets/controls",
          "model_module_version": "1.5.0",
          "model_name": "HBoxModel",
          "state": {
            "_dom_classes": [],
            "_model_module": "@jupyter-widgets/controls",
            "_model_module_version": "1.5.0",
            "_model_name": "HBoxModel",
            "_view_count": null,
            "_view_module": "@jupyter-widgets/controls",
            "_view_module_version": "1.5.0",
            "_view_name": "HBoxView",
            "box_style": "",
            "children": [
              "IPY_MODEL_c106bd39d49a49b79ebeaf8d48f2ad6c",
              "IPY_MODEL_c017e0e838a14ea08e62f758e48b82c4",
              "IPY_MODEL_00326136caa04c5682b95439aec72f5e"
            ],
            "layout": "IPY_MODEL_11ca9e47c85a4073afadb9c858fbc0ed"
          }
        },
        "6f5ccf335d6645c396d132daacf96648": {
          "model_module": "@jupyter-widgets/controls",
          "model_module_version": "1.5.0",
          "model_name": "DescriptionStyleModel",
          "state": {
            "_model_module": "@jupyter-widgets/controls",
            "_model_module_version": "1.5.0",
            "_model_name": "DescriptionStyleModel",
            "_view_count": null,
            "_view_module": "@jupyter-widgets/base",
            "_view_module_version": "1.2.0",
            "_view_name": "StyleView",
            "description_width": ""
          }
        },
        "72e628bbfa044026a4906d28937eed8f": {
          "model_module": "@jupyter-widgets/controls",
          "model_module_version": "1.5.0",
          "model_name": "FloatProgressModel",
          "state": {
            "_dom_classes": [],
            "_model_module": "@jupyter-widgets/controls",
            "_model_module_version": "1.5.0",
            "_model_name": "FloatProgressModel",
            "_view_count": null,
            "_view_module": "@jupyter-widgets/controls",
            "_view_module_version": "1.5.0",
            "_view_name": "ProgressView",
            "bar_style": "success",
            "description": "",
            "description_tooltip": null,
            "layout": "IPY_MODEL_a32d542f21f64d98a78e1d5d79552d09",
            "max": 541826656,
            "min": 0,
            "orientation": "horizontal",
            "style": "IPY_MODEL_63d184c7d452428e9e824218dc9e45b8",
            "value": 541826656
          }
        },
        "73413a85665647a1a48de09c37c486df": {
          "model_module": "@jupyter-widgets/controls",
          "model_module_version": "1.5.0",
          "model_name": "DescriptionStyleModel",
          "state": {
            "_model_module": "@jupyter-widgets/controls",
            "_model_module_version": "1.5.0",
            "_model_name": "DescriptionStyleModel",
            "_view_count": null,
            "_view_module": "@jupyter-widgets/base",
            "_view_module_version": "1.2.0",
            "_view_name": "StyleView",
            "description_width": ""
          }
        },
        "74305aff97da42d68ba7de083346ec9d": {
          "model_module": "@jupyter-widgets/base",
          "model_module_version": "1.2.0",
          "model_name": "LayoutModel",
          "state": {
            "_model_module": "@jupyter-widgets/base",
            "_model_module_version": "1.2.0",
            "_model_name": "LayoutModel",
            "_view_count": null,
            "_view_module": "@jupyter-widgets/base",
            "_view_module_version": "1.2.0",
            "_view_name": "LayoutView",
            "align_content": null,
            "align_items": null,
            "align_self": null,
            "border": null,
            "bottom": null,
            "display": null,
            "flex": null,
            "flex_flow": null,
            "grid_area": null,
            "grid_auto_columns": null,
            "grid_auto_flow": null,
            "grid_auto_rows": null,
            "grid_column": null,
            "grid_gap": null,
            "grid_row": null,
            "grid_template_areas": null,
            "grid_template_columns": null,
            "grid_template_rows": null,
            "height": null,
            "justify_content": null,
            "justify_items": null,
            "left": null,
            "margin": null,
            "max_height": null,
            "max_width": null,
            "min_height": null,
            "min_width": null,
            "object_fit": null,
            "object_position": null,
            "order": null,
            "overflow": null,
            "overflow_x": null,
            "overflow_y": null,
            "padding": null,
            "right": null,
            "top": null,
            "visibility": null,
            "width": null
          }
        },
        "743c8f0430364bceb16fdf6b93f1e488": {
          "model_module": "@jupyter-widgets/base",
          "model_module_version": "1.2.0",
          "model_name": "LayoutModel",
          "state": {
            "_model_module": "@jupyter-widgets/base",
            "_model_module_version": "1.2.0",
            "_model_name": "LayoutModel",
            "_view_count": null,
            "_view_module": "@jupyter-widgets/base",
            "_view_module_version": "1.2.0",
            "_view_name": "LayoutView",
            "align_content": null,
            "align_items": null,
            "align_self": null,
            "border": null,
            "bottom": null,
            "display": null,
            "flex": null,
            "flex_flow": null,
            "grid_area": null,
            "grid_auto_columns": null,
            "grid_auto_flow": null,
            "grid_auto_rows": null,
            "grid_column": null,
            "grid_gap": null,
            "grid_row": null,
            "grid_template_areas": null,
            "grid_template_columns": null,
            "grid_template_rows": null,
            "height": null,
            "justify_content": null,
            "justify_items": null,
            "left": null,
            "margin": null,
            "max_height": null,
            "max_width": null,
            "min_height": null,
            "min_width": null,
            "object_fit": null,
            "object_position": null,
            "order": null,
            "overflow": null,
            "overflow_x": null,
            "overflow_y": null,
            "padding": null,
            "right": null,
            "top": null,
            "visibility": null,
            "width": null
          }
        },
        "75788e17f2604d6182a28fe4b6bb7b06": {
          "model_module": "@jupyter-widgets/controls",
          "model_module_version": "1.5.0",
          "model_name": "HBoxModel",
          "state": {
            "_dom_classes": [],
            "_model_module": "@jupyter-widgets/controls",
            "_model_module_version": "1.5.0",
            "_model_name": "HBoxModel",
            "_view_count": null,
            "_view_module": "@jupyter-widgets/controls",
            "_view_module_version": "1.5.0",
            "_view_name": "HBoxView",
            "box_style": "",
            "children": [
              "IPY_MODEL_65834cc090d148c7bf1b9f89161a24a2",
              "IPY_MODEL_4d2d778273a0406186323f90b615794e",
              "IPY_MODEL_8171288853a344e39511b0d6227cbc23"
            ],
            "layout": "IPY_MODEL_a5f0ddc601bc45f7bf4955bd8b1fb466"
          }
        },
        "783295477d7f43bba3899bce9397afd2": {
          "model_module": "@jupyter-widgets/controls",
          "model_module_version": "1.5.0",
          "model_name": "FloatProgressModel",
          "state": {
            "_dom_classes": [],
            "_model_module": "@jupyter-widgets/controls",
            "_model_module_version": "1.5.0",
            "_model_name": "FloatProgressModel",
            "_view_count": null,
            "_view_module": "@jupyter-widgets/controls",
            "_view_module_version": "1.5.0",
            "_view_name": "ProgressView",
            "bar_style": "success",
            "description": "",
            "description_tooltip": null,
            "layout": "IPY_MODEL_7ff09fcfb93a47d78b7be364d684a6f9",
            "max": 466,
            "min": 0,
            "orientation": "horizontal",
            "style": "IPY_MODEL_0bf88655ee314519a21ea22058a81063",
            "value": 466
          }
        },
        "7d69b06a77bd41909184b46f180bac08": {
          "model_module": "@jupyter-widgets/base",
          "model_module_version": "1.2.0",
          "model_name": "LayoutModel",
          "state": {
            "_model_module": "@jupyter-widgets/base",
            "_model_module_version": "1.2.0",
            "_model_name": "LayoutModel",
            "_view_count": null,
            "_view_module": "@jupyter-widgets/base",
            "_view_module_version": "1.2.0",
            "_view_name": "LayoutView",
            "align_content": null,
            "align_items": null,
            "align_self": null,
            "border": null,
            "bottom": null,
            "display": null,
            "flex": null,
            "flex_flow": null,
            "grid_area": null,
            "grid_auto_columns": null,
            "grid_auto_flow": null,
            "grid_auto_rows": null,
            "grid_column": null,
            "grid_gap": null,
            "grid_row": null,
            "grid_template_areas": null,
            "grid_template_columns": null,
            "grid_template_rows": null,
            "height": null,
            "justify_content": null,
            "justify_items": null,
            "left": null,
            "margin": null,
            "max_height": null,
            "max_width": null,
            "min_height": null,
            "min_width": null,
            "object_fit": null,
            "object_position": null,
            "order": null,
            "overflow": null,
            "overflow_x": null,
            "overflow_y": null,
            "padding": null,
            "right": null,
            "top": null,
            "visibility": null,
            "width": null
          }
        },
        "7d9976250aa640f781c2c452271108c5": {
          "model_module": "@jupyter-widgets/controls",
          "model_module_version": "1.5.0",
          "model_name": "HTMLModel",
          "state": {
            "_dom_classes": [],
            "_model_module": "@jupyter-widgets/controls",
            "_model_module_version": "1.5.0",
            "_model_name": "HTMLModel",
            "_view_count": null,
            "_view_module": "@jupyter-widgets/controls",
            "_view_module_version": "1.5.0",
            "_view_name": "HTMLView",
            "description": "",
            "description_tooltip": null,
            "layout": "IPY_MODEL_d96965f962a644a1b28c6dffd72b7630",
            "placeholder": "​",
            "style": "IPY_MODEL_73413a85665647a1a48de09c37c486df",
            "value": "pytorch_model.bin: 100%"
          }
        },
        "7ec16d99757044568dc98b7da9841b9e": {
          "model_module": "@jupyter-widgets/controls",
          "model_module_version": "1.5.0",
          "model_name": "FloatProgressModel",
          "state": {
            "_dom_classes": [],
            "_model_module": "@jupyter-widgets/controls",
            "_model_module_version": "1.5.0",
            "_model_name": "FloatProgressModel",
            "_view_count": null,
            "_view_module": "@jupyter-widgets/controls",
            "_view_module_version": "1.5.0",
            "_view_name": "ProgressView",
            "bar_style": "success",
            "description": "",
            "description_tooltip": null,
            "layout": "IPY_MODEL_7d69b06a77bd41909184b46f180bac08",
            "max": 667,
            "min": 0,
            "orientation": "horizontal",
            "style": "IPY_MODEL_ad5128c7303b4ada9d3a2b68133af808",
            "value": 667
          }
        },
        "7ed96a8c415b4cb0a110ab0a923bc380": {
          "model_module": "@jupyter-widgets/controls",
          "model_module_version": "1.5.0",
          "model_name": "DescriptionStyleModel",
          "state": {
            "_model_module": "@jupyter-widgets/controls",
            "_model_module_version": "1.5.0",
            "_model_name": "DescriptionStyleModel",
            "_view_count": null,
            "_view_module": "@jupyter-widgets/base",
            "_view_module_version": "1.2.0",
            "_view_name": "StyleView",
            "description_width": ""
          }
        },
        "7ff09fcfb93a47d78b7be364d684a6f9": {
          "model_module": "@jupyter-widgets/base",
          "model_module_version": "1.2.0",
          "model_name": "LayoutModel",
          "state": {
            "_model_module": "@jupyter-widgets/base",
            "_model_module_version": "1.2.0",
            "_model_name": "LayoutModel",
            "_view_count": null,
            "_view_module": "@jupyter-widgets/base",
            "_view_module_version": "1.2.0",
            "_view_name": "LayoutView",
            "align_content": null,
            "align_items": null,
            "align_self": null,
            "border": null,
            "bottom": null,
            "display": null,
            "flex": null,
            "flex_flow": null,
            "grid_area": null,
            "grid_auto_columns": null,
            "grid_auto_flow": null,
            "grid_auto_rows": null,
            "grid_column": null,
            "grid_gap": null,
            "grid_row": null,
            "grid_template_areas": null,
            "grid_template_columns": null,
            "grid_template_rows": null,
            "height": null,
            "justify_content": null,
            "justify_items": null,
            "left": null,
            "margin": null,
            "max_height": null,
            "max_width": null,
            "min_height": null,
            "min_width": null,
            "object_fit": null,
            "object_position": null,
            "order": null,
            "overflow": null,
            "overflow_x": null,
            "overflow_y": null,
            "padding": null,
            "right": null,
            "top": null,
            "visibility": null,
            "width": null
          }
        },
        "8171288853a344e39511b0d6227cbc23": {
          "model_module": "@jupyter-widgets/controls",
          "model_module_version": "1.5.0",
          "model_name": "HTMLModel",
          "state": {
            "_dom_classes": [],
            "_model_module": "@jupyter-widgets/controls",
            "_model_module_version": "1.5.0",
            "_model_name": "HTMLModel",
            "_view_count": null,
            "_view_module": "@jupyter-widgets/controls",
            "_view_module_version": "1.5.0",
            "_view_name": "HTMLView",
            "description": "",
            "description_tooltip": null,
            "layout": "IPY_MODEL_3d6781e262b84ef39d109e984a7a20d7",
            "placeholder": "​",
            "style": "IPY_MODEL_bc449b66ffe041b9b8c112c64f689b33",
            "value": " 438M/438M [00:05&lt;00:00, 103MB/s]"
          }
        },
        "8606fbb299b6426d94892c5024c7b09a": {
          "model_module": "@jupyter-widgets/base",
          "model_module_version": "1.2.0",
          "model_name": "LayoutModel",
          "state": {
            "_model_module": "@jupyter-widgets/base",
            "_model_module_version": "1.2.0",
            "_model_name": "LayoutModel",
            "_view_count": null,
            "_view_module": "@jupyter-widgets/base",
            "_view_module_version": "1.2.0",
            "_view_name": "LayoutView",
            "align_content": null,
            "align_items": null,
            "align_self": null,
            "border": null,
            "bottom": null,
            "display": null,
            "flex": null,
            "flex_flow": null,
            "grid_area": null,
            "grid_auto_columns": null,
            "grid_auto_flow": null,
            "grid_auto_rows": null,
            "grid_column": null,
            "grid_gap": null,
            "grid_row": null,
            "grid_template_areas": null,
            "grid_template_columns": null,
            "grid_template_rows": null,
            "height": null,
            "justify_content": null,
            "justify_items": null,
            "left": null,
            "margin": null,
            "max_height": null,
            "max_width": null,
            "min_height": null,
            "min_width": null,
            "object_fit": null,
            "object_position": null,
            "order": null,
            "overflow": null,
            "overflow_x": null,
            "overflow_y": null,
            "padding": null,
            "right": null,
            "top": null,
            "visibility": null,
            "width": null
          }
        },
        "89c50ebfe62041748169bbc0881bf985": {
          "model_module": "@jupyter-widgets/controls",
          "model_module_version": "1.5.0",
          "model_name": "HTMLModel",
          "state": {
            "_dom_classes": [],
            "_model_module": "@jupyter-widgets/controls",
            "_model_module_version": "1.5.0",
            "_model_name": "HTMLModel",
            "_view_count": null,
            "_view_module": "@jupyter-widgets/controls",
            "_view_module_version": "1.5.0",
            "_view_name": "HTMLView",
            "description": "",
            "description_tooltip": null,
            "layout": "IPY_MODEL_080f9d2867f149b38d7c29f575af7ee2",
            "placeholder": "​",
            "style": "IPY_MODEL_6f5ccf335d6645c396d132daacf96648",
            "value": "tokenizer_config.json: 100%"
          }
        },
        "8c79b3624a9945d9a31cbf82b2e33f24": {
          "model_module": "@jupyter-widgets/controls",
          "model_module_version": "1.5.0",
          "model_name": "HTMLModel",
          "state": {
            "_dom_classes": [],
            "_model_module": "@jupyter-widgets/controls",
            "_model_module_version": "1.5.0",
            "_model_name": "HTMLModel",
            "_view_count": null,
            "_view_module": "@jupyter-widgets/controls",
            "_view_module_version": "1.5.0",
            "_view_name": "HTMLView",
            "description": "",
            "description_tooltip": null,
            "layout": "IPY_MODEL_bddc6bf316f04d04bfd156c639bd4b97",
            "placeholder": "​",
            "style": "IPY_MODEL_07689afe582b493294534ced5925f24c",
            "value": " 542M/542M [00:04&lt;00:00, 118MB/s]"
          }
        },
        "8e8669c88e3d47578c5617ee610224f5": {
          "model_module": "@jupyter-widgets/controls",
          "model_module_version": "1.5.0",
          "model_name": "HBoxModel",
          "state": {
            "_dom_classes": [],
            "_model_module": "@jupyter-widgets/controls",
            "_model_module_version": "1.5.0",
            "_model_name": "HBoxModel",
            "_view_count": null,
            "_view_module": "@jupyter-widgets/controls",
            "_view_module_version": "1.5.0",
            "_view_name": "HBoxView",
            "box_style": "",
            "children": [
              "IPY_MODEL_b68f247dda7643209b04c297a4e0adf1",
              "IPY_MODEL_7ec16d99757044568dc98b7da9841b9e",
              "IPY_MODEL_22765a6cd02c4d4cab2d968fc247a402"
            ],
            "layout": "IPY_MODEL_ba36f0c77d6340088dfe012e92388bfb"
          }
        },
        "94edc8924e944a1592f1cf067c0a1121": {
          "model_module": "@jupyter-widgets/controls",
          "model_module_version": "1.5.0",
          "model_name": "DescriptionStyleModel",
          "state": {
            "_model_module": "@jupyter-widgets/controls",
            "_model_module_version": "1.5.0",
            "_model_name": "DescriptionStyleModel",
            "_view_count": null,
            "_view_module": "@jupyter-widgets/base",
            "_view_module_version": "1.2.0",
            "_view_name": "StyleView",
            "description_width": ""
          }
        },
        "99f219876c634973853116f1ee77a295": {
          "model_module": "@jupyter-widgets/base",
          "model_module_version": "1.2.0",
          "model_name": "LayoutModel",
          "state": {
            "_model_module": "@jupyter-widgets/base",
            "_model_module_version": "1.2.0",
            "_model_name": "LayoutModel",
            "_view_count": null,
            "_view_module": "@jupyter-widgets/base",
            "_view_module_version": "1.2.0",
            "_view_name": "LayoutView",
            "align_content": null,
            "align_items": null,
            "align_self": null,
            "border": null,
            "bottom": null,
            "display": null,
            "flex": null,
            "flex_flow": null,
            "grid_area": null,
            "grid_auto_columns": null,
            "grid_auto_flow": null,
            "grid_auto_rows": null,
            "grid_column": null,
            "grid_gap": null,
            "grid_row": null,
            "grid_template_areas": null,
            "grid_template_columns": null,
            "grid_template_rows": null,
            "height": null,
            "justify_content": null,
            "justify_items": null,
            "left": null,
            "margin": null,
            "max_height": null,
            "max_width": null,
            "min_height": null,
            "min_width": null,
            "object_fit": null,
            "object_position": null,
            "order": null,
            "overflow": null,
            "overflow_x": null,
            "overflow_y": null,
            "padding": null,
            "right": null,
            "top": null,
            "visibility": null,
            "width": null
          }
        },
        "9a9dc03c548b4a099a42f558cb08feb1": {
          "model_module": "@jupyter-widgets/base",
          "model_module_version": "1.2.0",
          "model_name": "LayoutModel",
          "state": {
            "_model_module": "@jupyter-widgets/base",
            "_model_module_version": "1.2.0",
            "_model_name": "LayoutModel",
            "_view_count": null,
            "_view_module": "@jupyter-widgets/base",
            "_view_module_version": "1.2.0",
            "_view_name": "LayoutView",
            "align_content": null,
            "align_items": null,
            "align_self": null,
            "border": null,
            "bottom": null,
            "display": null,
            "flex": null,
            "flex_flow": null,
            "grid_area": null,
            "grid_auto_columns": null,
            "grid_auto_flow": null,
            "grid_auto_rows": null,
            "grid_column": null,
            "grid_gap": null,
            "grid_row": null,
            "grid_template_areas": null,
            "grid_template_columns": null,
            "grid_template_rows": null,
            "height": null,
            "justify_content": null,
            "justify_items": null,
            "left": null,
            "margin": null,
            "max_height": null,
            "max_width": null,
            "min_height": null,
            "min_width": null,
            "object_fit": null,
            "object_position": null,
            "order": null,
            "overflow": null,
            "overflow_x": null,
            "overflow_y": null,
            "padding": null,
            "right": null,
            "top": null,
            "visibility": null,
            "width": null
          }
        },
        "a2a586796f434a49a8d2903f12f9b035": {
          "model_module": "@jupyter-widgets/controls",
          "model_module_version": "1.5.0",
          "model_name": "ProgressStyleModel",
          "state": {
            "_model_module": "@jupyter-widgets/controls",
            "_model_module_version": "1.5.0",
            "_model_name": "ProgressStyleModel",
            "_view_count": null,
            "_view_module": "@jupyter-widgets/base",
            "_view_module_version": "1.2.0",
            "_view_name": "StyleView",
            "bar_color": null,
            "description_width": ""
          }
        },
        "a32d542f21f64d98a78e1d5d79552d09": {
          "model_module": "@jupyter-widgets/base",
          "model_module_version": "1.2.0",
          "model_name": "LayoutModel",
          "state": {
            "_model_module": "@jupyter-widgets/base",
            "_model_module_version": "1.2.0",
            "_model_name": "LayoutModel",
            "_view_count": null,
            "_view_module": "@jupyter-widgets/base",
            "_view_module_version": "1.2.0",
            "_view_name": "LayoutView",
            "align_content": null,
            "align_items": null,
            "align_self": null,
            "border": null,
            "bottom": null,
            "display": null,
            "flex": null,
            "flex_flow": null,
            "grid_area": null,
            "grid_auto_columns": null,
            "grid_auto_flow": null,
            "grid_auto_rows": null,
            "grid_column": null,
            "grid_gap": null,
            "grid_row": null,
            "grid_template_areas": null,
            "grid_template_columns": null,
            "grid_template_rows": null,
            "height": null,
            "justify_content": null,
            "justify_items": null,
            "left": null,
            "margin": null,
            "max_height": null,
            "max_width": null,
            "min_height": null,
            "min_width": null,
            "object_fit": null,
            "object_position": null,
            "order": null,
            "overflow": null,
            "overflow_x": null,
            "overflow_y": null,
            "padding": null,
            "right": null,
            "top": null,
            "visibility": null,
            "width": null
          }
        },
        "a470509b1eb34cd8bb8a67c157a7f724": {
          "model_module": "@jupyter-widgets/controls",
          "model_module_version": "1.5.0",
          "model_name": "HBoxModel",
          "state": {
            "_dom_classes": [],
            "_model_module": "@jupyter-widgets/controls",
            "_model_module_version": "1.5.0",
            "_model_name": "HBoxModel",
            "_view_count": null,
            "_view_module": "@jupyter-widgets/controls",
            "_view_module_version": "1.5.0",
            "_view_name": "HBoxView",
            "box_style": "",
            "children": [
              "IPY_MODEL_b495a764fd754862969cfd023840f0c6",
              "IPY_MODEL_26f142e4793b4c1a857ef2f204c91404",
              "IPY_MODEL_ea3f3384f5d44d67939d734cbdcc66da"
            ],
            "layout": "IPY_MODEL_a60ee64552df404caeb2ea1ee7da1dd7"
          }
        },
        "a5f0ddc601bc45f7bf4955bd8b1fb466": {
          "model_module": "@jupyter-widgets/base",
          "model_module_version": "1.2.0",
          "model_name": "LayoutModel",
          "state": {
            "_model_module": "@jupyter-widgets/base",
            "_model_module_version": "1.2.0",
            "_model_name": "LayoutModel",
            "_view_count": null,
            "_view_module": "@jupyter-widgets/base",
            "_view_module_version": "1.2.0",
            "_view_name": "LayoutView",
            "align_content": null,
            "align_items": null,
            "align_self": null,
            "border": null,
            "bottom": null,
            "display": null,
            "flex": null,
            "flex_flow": null,
            "grid_area": null,
            "grid_auto_columns": null,
            "grid_auto_flow": null,
            "grid_auto_rows": null,
            "grid_column": null,
            "grid_gap": null,
            "grid_row": null,
            "grid_template_areas": null,
            "grid_template_columns": null,
            "grid_template_rows": null,
            "height": null,
            "justify_content": null,
            "justify_items": null,
            "left": null,
            "margin": null,
            "max_height": null,
            "max_width": null,
            "min_height": null,
            "min_width": null,
            "object_fit": null,
            "object_position": null,
            "order": null,
            "overflow": null,
            "overflow_x": null,
            "overflow_y": null,
            "padding": null,
            "right": null,
            "top": null,
            "visibility": null,
            "width": null
          }
        },
        "a60ee64552df404caeb2ea1ee7da1dd7": {
          "model_module": "@jupyter-widgets/base",
          "model_module_version": "1.2.0",
          "model_name": "LayoutModel",
          "state": {
            "_model_module": "@jupyter-widgets/base",
            "_model_module_version": "1.2.0",
            "_model_name": "LayoutModel",
            "_view_count": null,
            "_view_module": "@jupyter-widgets/base",
            "_view_module_version": "1.2.0",
            "_view_name": "LayoutView",
            "align_content": null,
            "align_items": null,
            "align_self": null,
            "border": null,
            "bottom": null,
            "display": null,
            "flex": null,
            "flex_flow": null,
            "grid_area": null,
            "grid_auto_columns": null,
            "grid_auto_flow": null,
            "grid_auto_rows": null,
            "grid_column": null,
            "grid_gap": null,
            "grid_row": null,
            "grid_template_areas": null,
            "grid_template_columns": null,
            "grid_template_rows": null,
            "height": null,
            "justify_content": null,
            "justify_items": null,
            "left": null,
            "margin": null,
            "max_height": null,
            "max_width": null,
            "min_height": null,
            "min_width": null,
            "object_fit": null,
            "object_position": null,
            "order": null,
            "overflow": null,
            "overflow_x": null,
            "overflow_y": null,
            "padding": null,
            "right": null,
            "top": null,
            "visibility": null,
            "width": null
          }
        },
        "a8aa62f429664d91afb0c93eff257a6c": {
          "model_module": "@jupyter-widgets/base",
          "model_module_version": "1.2.0",
          "model_name": "LayoutModel",
          "state": {
            "_model_module": "@jupyter-widgets/base",
            "_model_module_version": "1.2.0",
            "_model_name": "LayoutModel",
            "_view_count": null,
            "_view_module": "@jupyter-widgets/base",
            "_view_module_version": "1.2.0",
            "_view_name": "LayoutView",
            "align_content": null,
            "align_items": null,
            "align_self": null,
            "border": null,
            "bottom": null,
            "display": null,
            "flex": null,
            "flex_flow": null,
            "grid_area": null,
            "grid_auto_columns": null,
            "grid_auto_flow": null,
            "grid_auto_rows": null,
            "grid_column": null,
            "grid_gap": null,
            "grid_row": null,
            "grid_template_areas": null,
            "grid_template_columns": null,
            "grid_template_rows": null,
            "height": null,
            "justify_content": null,
            "justify_items": null,
            "left": null,
            "margin": null,
            "max_height": null,
            "max_width": null,
            "min_height": null,
            "min_width": null,
            "object_fit": null,
            "object_position": null,
            "order": null,
            "overflow": null,
            "overflow_x": null,
            "overflow_y": null,
            "padding": null,
            "right": null,
            "top": null,
            "visibility": null,
            "width": null
          }
        },
        "ad5128c7303b4ada9d3a2b68133af808": {
          "model_module": "@jupyter-widgets/controls",
          "model_module_version": "1.5.0",
          "model_name": "ProgressStyleModel",
          "state": {
            "_model_module": "@jupyter-widgets/controls",
            "_model_module_version": "1.5.0",
            "_model_name": "ProgressStyleModel",
            "_view_count": null,
            "_view_module": "@jupyter-widgets/base",
            "_view_module_version": "1.2.0",
            "_view_name": "StyleView",
            "bar_color": null,
            "description_width": ""
          }
        },
        "b495a764fd754862969cfd023840f0c6": {
          "model_module": "@jupyter-widgets/controls",
          "model_module_version": "1.5.0",
          "model_name": "HTMLModel",
          "state": {
            "_dom_classes": [],
            "_model_module": "@jupyter-widgets/controls",
            "_model_module_version": "1.5.0",
            "_model_name": "HTMLModel",
            "_view_count": null,
            "_view_module": "@jupyter-widgets/controls",
            "_view_module_version": "1.5.0",
            "_view_name": "HTMLView",
            "description": "",
            "description_tooltip": null,
            "layout": "IPY_MODEL_1ec3b351439245b785dbe44f2ac41fe4",
            "placeholder": "​",
            "style": "IPY_MODEL_2d3bc727227647b1a692c2ea408a936e",
            "value": "special_tokens_map.json: 100%"
          }
        },
        "b68f247dda7643209b04c297a4e0adf1": {
          "model_module": "@jupyter-widgets/controls",
          "model_module_version": "1.5.0",
          "model_name": "HTMLModel",
          "state": {
            "_dom_classes": [],
            "_model_module": "@jupyter-widgets/controls",
            "_model_module_version": "1.5.0",
            "_model_name": "HTMLModel",
            "_view_count": null,
            "_view_module": "@jupyter-widgets/controls",
            "_view_module_version": "1.5.0",
            "_view_name": "HTMLView",
            "description": "",
            "description_tooltip": null,
            "layout": "IPY_MODEL_41beb842d0f14ce482fd59480defb85e",
            "placeholder": "​",
            "style": "IPY_MODEL_ccbd0833a22548d08ad0cce8b1aee999",
            "value": "config.json: 100%"
          }
        },
        "b94173ba93f5438e9305d86fcefbc1a8": {
          "model_module": "@jupyter-widgets/base",
          "model_module_version": "1.2.0",
          "model_name": "LayoutModel",
          "state": {
            "_model_module": "@jupyter-widgets/base",
            "_model_module_version": "1.2.0",
            "_model_name": "LayoutModel",
            "_view_count": null,
            "_view_module": "@jupyter-widgets/base",
            "_view_module_version": "1.2.0",
            "_view_name": "LayoutView",
            "align_content": null,
            "align_items": null,
            "align_self": null,
            "border": null,
            "bottom": null,
            "display": null,
            "flex": null,
            "flex_flow": null,
            "grid_area": null,
            "grid_auto_columns": null,
            "grid_auto_flow": null,
            "grid_auto_rows": null,
            "grid_column": null,
            "grid_gap": null,
            "grid_row": null,
            "grid_template_areas": null,
            "grid_template_columns": null,
            "grid_template_rows": null,
            "height": null,
            "justify_content": null,
            "justify_items": null,
            "left": null,
            "margin": null,
            "max_height": null,
            "max_width": null,
            "min_height": null,
            "min_width": null,
            "object_fit": null,
            "object_position": null,
            "order": null,
            "overflow": null,
            "overflow_x": null,
            "overflow_y": null,
            "padding": null,
            "right": null,
            "top": null,
            "visibility": null,
            "width": null
          }
        },
        "ba36f0c77d6340088dfe012e92388bfb": {
          "model_module": "@jupyter-widgets/base",
          "model_module_version": "1.2.0",
          "model_name": "LayoutModel",
          "state": {
            "_model_module": "@jupyter-widgets/base",
            "_model_module_version": "1.2.0",
            "_model_name": "LayoutModel",
            "_view_count": null,
            "_view_module": "@jupyter-widgets/base",
            "_view_module_version": "1.2.0",
            "_view_name": "LayoutView",
            "align_content": null,
            "align_items": null,
            "align_self": null,
            "border": null,
            "bottom": null,
            "display": null,
            "flex": null,
            "flex_flow": null,
            "grid_area": null,
            "grid_auto_columns": null,
            "grid_auto_flow": null,
            "grid_auto_rows": null,
            "grid_column": null,
            "grid_gap": null,
            "grid_row": null,
            "grid_template_areas": null,
            "grid_template_columns": null,
            "grid_template_rows": null,
            "height": null,
            "justify_content": null,
            "justify_items": null,
            "left": null,
            "margin": null,
            "max_height": null,
            "max_width": null,
            "min_height": null,
            "min_width": null,
            "object_fit": null,
            "object_position": null,
            "order": null,
            "overflow": null,
            "overflow_x": null,
            "overflow_y": null,
            "padding": null,
            "right": null,
            "top": null,
            "visibility": null,
            "width": null
          }
        },
        "bc449b66ffe041b9b8c112c64f689b33": {
          "model_module": "@jupyter-widgets/controls",
          "model_module_version": "1.5.0",
          "model_name": "DescriptionStyleModel",
          "state": {
            "_model_module": "@jupyter-widgets/controls",
            "_model_module_version": "1.5.0",
            "_model_name": "DescriptionStyleModel",
            "_view_count": null,
            "_view_module": "@jupyter-widgets/base",
            "_view_module_version": "1.2.0",
            "_view_name": "StyleView",
            "description_width": ""
          }
        },
        "bddc6bf316f04d04bfd156c639bd4b97": {
          "model_module": "@jupyter-widgets/base",
          "model_module_version": "1.2.0",
          "model_name": "LayoutModel",
          "state": {
            "_model_module": "@jupyter-widgets/base",
            "_model_module_version": "1.2.0",
            "_model_name": "LayoutModel",
            "_view_count": null,
            "_view_module": "@jupyter-widgets/base",
            "_view_module_version": "1.2.0",
            "_view_name": "LayoutView",
            "align_content": null,
            "align_items": null,
            "align_self": null,
            "border": null,
            "bottom": null,
            "display": null,
            "flex": null,
            "flex_flow": null,
            "grid_area": null,
            "grid_auto_columns": null,
            "grid_auto_flow": null,
            "grid_auto_rows": null,
            "grid_column": null,
            "grid_gap": null,
            "grid_row": null,
            "grid_template_areas": null,
            "grid_template_columns": null,
            "grid_template_rows": null,
            "height": null,
            "justify_content": null,
            "justify_items": null,
            "left": null,
            "margin": null,
            "max_height": null,
            "max_width": null,
            "min_height": null,
            "min_width": null,
            "object_fit": null,
            "object_position": null,
            "order": null,
            "overflow": null,
            "overflow_x": null,
            "overflow_y": null,
            "padding": null,
            "right": null,
            "top": null,
            "visibility": null,
            "width": null
          }
        },
        "c017e0e838a14ea08e62f758e48b82c4": {
          "model_module": "@jupyter-widgets/controls",
          "model_module_version": "1.5.0",
          "model_name": "FloatProgressModel",
          "state": {
            "_dom_classes": [],
            "_model_module": "@jupyter-widgets/controls",
            "_model_module_version": "1.5.0",
            "_model_name": "FloatProgressModel",
            "_view_count": null,
            "_view_module": "@jupyter-widgets/controls",
            "_view_module_version": "1.5.0",
            "_view_name": "ProgressView",
            "bar_style": "success",
            "description": "",
            "description_tooltip": null,
            "layout": "IPY_MODEL_62bb0838ff88437189c15d01c027dbd0",
            "max": 995526,
            "min": 0,
            "orientation": "horizontal",
            "style": "IPY_MODEL_1985baff44294bcab9002d37292068f9",
            "value": 995526
          }
        },
        "c106bd39d49a49b79ebeaf8d48f2ad6c": {
          "model_module": "@jupyter-widgets/controls",
          "model_module_version": "1.5.0",
          "model_name": "HTMLModel",
          "state": {
            "_dom_classes": [],
            "_model_module": "@jupyter-widgets/controls",
            "_model_module_version": "1.5.0",
            "_model_name": "HTMLModel",
            "_view_count": null,
            "_view_module": "@jupyter-widgets/controls",
            "_view_module_version": "1.5.0",
            "_view_name": "HTMLView",
            "description": "",
            "description_tooltip": null,
            "layout": "IPY_MODEL_3aa7add11ae5412c846b0b4a0952e653",
            "placeholder": "​",
            "style": "IPY_MODEL_94edc8924e944a1592f1cf067c0a1121",
            "value": "vocab.txt: 100%"
          }
        },
        "ccbd0833a22548d08ad0cce8b1aee999": {
          "model_module": "@jupyter-widgets/controls",
          "model_module_version": "1.5.0",
          "model_name": "DescriptionStyleModel",
          "state": {
            "_model_module": "@jupyter-widgets/controls",
            "_model_module_version": "1.5.0",
            "_model_name": "DescriptionStyleModel",
            "_view_count": null,
            "_view_module": "@jupyter-widgets/base",
            "_view_module_version": "1.2.0",
            "_view_name": "StyleView",
            "description_width": ""
          }
        },
        "cd08d1431627454088305f11548774b4": {
          "model_module": "@jupyter-widgets/base",
          "model_module_version": "1.2.0",
          "model_name": "LayoutModel",
          "state": {
            "_model_module": "@jupyter-widgets/base",
            "_model_module_version": "1.2.0",
            "_model_name": "LayoutModel",
            "_view_count": null,
            "_view_module": "@jupyter-widgets/base",
            "_view_module_version": "1.2.0",
            "_view_name": "LayoutView",
            "align_content": null,
            "align_items": null,
            "align_self": null,
            "border": null,
            "bottom": null,
            "display": null,
            "flex": null,
            "flex_flow": null,
            "grid_area": null,
            "grid_auto_columns": null,
            "grid_auto_flow": null,
            "grid_auto_rows": null,
            "grid_column": null,
            "grid_gap": null,
            "grid_row": null,
            "grid_template_areas": null,
            "grid_template_columns": null,
            "grid_template_rows": null,
            "height": null,
            "justify_content": null,
            "justify_items": null,
            "left": null,
            "margin": null,
            "max_height": null,
            "max_width": null,
            "min_height": null,
            "min_width": null,
            "object_fit": null,
            "object_position": null,
            "order": null,
            "overflow": null,
            "overflow_x": null,
            "overflow_y": null,
            "padding": null,
            "right": null,
            "top": null,
            "visibility": null,
            "width": null
          }
        },
        "d757a55a10274d71aa3356b0dd6870bb": {
          "model_module": "@jupyter-widgets/controls",
          "model_module_version": "1.5.0",
          "model_name": "FloatProgressModel",
          "state": {
            "_dom_classes": [],
            "_model_module": "@jupyter-widgets/controls",
            "_model_module_version": "1.5.0",
            "_model_name": "FloatProgressModel",
            "_view_count": null,
            "_view_module": "@jupyter-widgets/controls",
            "_view_module_version": "1.5.0",
            "_view_name": "ProgressView",
            "bar_style": "success",
            "description": "",
            "description_tooltip": null,
            "layout": "IPY_MODEL_74305aff97da42d68ba7de083346ec9d",
            "max": 62,
            "min": 0,
            "orientation": "horizontal",
            "style": "IPY_MODEL_3f7f095dd69942d5a4d09cfbe50b0db2",
            "value": 62
          }
        },
        "d96965f962a644a1b28c6dffd72b7630": {
          "model_module": "@jupyter-widgets/base",
          "model_module_version": "1.2.0",
          "model_name": "LayoutModel",
          "state": {
            "_model_module": "@jupyter-widgets/base",
            "_model_module_version": "1.2.0",
            "_model_name": "LayoutModel",
            "_view_count": null,
            "_view_module": "@jupyter-widgets/base",
            "_view_module_version": "1.2.0",
            "_view_name": "LayoutView",
            "align_content": null,
            "align_items": null,
            "align_self": null,
            "border": null,
            "bottom": null,
            "display": null,
            "flex": null,
            "flex_flow": null,
            "grid_area": null,
            "grid_auto_columns": null,
            "grid_auto_flow": null,
            "grid_auto_rows": null,
            "grid_column": null,
            "grid_gap": null,
            "grid_row": null,
            "grid_template_areas": null,
            "grid_template_columns": null,
            "grid_template_rows": null,
            "height": null,
            "justify_content": null,
            "justify_items": null,
            "left": null,
            "margin": null,
            "max_height": null,
            "max_width": null,
            "min_height": null,
            "min_width": null,
            "object_fit": null,
            "object_position": null,
            "order": null,
            "overflow": null,
            "overflow_x": null,
            "overflow_y": null,
            "padding": null,
            "right": null,
            "top": null,
            "visibility": null,
            "width": null
          }
        },
        "dde9e048c66e4c62b8189fde61f1e00b": {
          "model_module": "@jupyter-widgets/base",
          "model_module_version": "1.2.0",
          "model_name": "LayoutModel",
          "state": {
            "_model_module": "@jupyter-widgets/base",
            "_model_module_version": "1.2.0",
            "_model_name": "LayoutModel",
            "_view_count": null,
            "_view_module": "@jupyter-widgets/base",
            "_view_module_version": "1.2.0",
            "_view_name": "LayoutView",
            "align_content": null,
            "align_items": null,
            "align_self": null,
            "border": null,
            "bottom": null,
            "display": null,
            "flex": null,
            "flex_flow": null,
            "grid_area": null,
            "grid_auto_columns": null,
            "grid_auto_flow": null,
            "grid_auto_rows": null,
            "grid_column": null,
            "grid_gap": null,
            "grid_row": null,
            "grid_template_areas": null,
            "grid_template_columns": null,
            "grid_template_rows": null,
            "height": null,
            "justify_content": null,
            "justify_items": null,
            "left": null,
            "margin": null,
            "max_height": null,
            "max_width": null,
            "min_height": null,
            "min_width": null,
            "object_fit": null,
            "object_position": null,
            "order": null,
            "overflow": null,
            "overflow_x": null,
            "overflow_y": null,
            "padding": null,
            "right": null,
            "top": null,
            "visibility": null,
            "width": null
          }
        },
        "e0b8bf5c1336477b873ca598e5111c04": {
          "model_module": "@jupyter-widgets/controls",
          "model_module_version": "1.5.0",
          "model_name": "HTMLModel",
          "state": {
            "_dom_classes": [],
            "_model_module": "@jupyter-widgets/controls",
            "_model_module_version": "1.5.0",
            "_model_name": "HTMLModel",
            "_view_count": null,
            "_view_module": "@jupyter-widgets/controls",
            "_view_module_version": "1.5.0",
            "_view_name": "HTMLView",
            "description": "",
            "description_tooltip": null,
            "layout": "IPY_MODEL_f101de5a59ea48b3a0f68916c77edca7",
            "placeholder": "​",
            "style": "IPY_MODEL_52eeef21116c414482f62990d479c3bc",
            "value": " 62.0/62.0 [00:00&lt;00:00, 3.20kB/s]"
          }
        },
        "e12493d5adbc4141b7111cedd6a4a71b": {
          "model_module": "@jupyter-widgets/controls",
          "model_module_version": "1.5.0",
          "model_name": "HBoxModel",
          "state": {
            "_dom_classes": [],
            "_model_module": "@jupyter-widgets/controls",
            "_model_module_version": "1.5.0",
            "_model_name": "HBoxModel",
            "_view_count": null,
            "_view_module": "@jupyter-widgets/controls",
            "_view_module_version": "1.5.0",
            "_view_name": "HBoxView",
            "box_style": "",
            "children": [
              "IPY_MODEL_f3a8553c18084299afdcb025ed6b1890",
              "IPY_MODEL_783295477d7f43bba3899bce9397afd2",
              "IPY_MODEL_2f0e40ec3a1a48d2b9a9c0b09ca0587e"
            ],
            "layout": "IPY_MODEL_743c8f0430364bceb16fdf6b93f1e488"
          }
        },
        "e2ebb94770854593b134016299822b20": {
          "model_module": "@jupyter-widgets/controls",
          "model_module_version": "1.5.0",
          "model_name": "DescriptionStyleModel",
          "state": {
            "_model_module": "@jupyter-widgets/controls",
            "_model_module_version": "1.5.0",
            "_model_name": "DescriptionStyleModel",
            "_view_count": null,
            "_view_module": "@jupyter-widgets/base",
            "_view_module_version": "1.2.0",
            "_view_name": "StyleView",
            "description_width": ""
          }
        },
        "ea3f3384f5d44d67939d734cbdcc66da": {
          "model_module": "@jupyter-widgets/controls",
          "model_module_version": "1.5.0",
          "model_name": "HTMLModel",
          "state": {
            "_dom_classes": [],
            "_model_module": "@jupyter-widgets/controls",
            "_model_module_version": "1.5.0",
            "_model_name": "HTMLModel",
            "_view_count": null,
            "_view_module": "@jupyter-widgets/controls",
            "_view_module_version": "1.5.0",
            "_view_name": "HTMLView",
            "description": "",
            "description_tooltip": null,
            "layout": "IPY_MODEL_01a4f11f339f4ff792f2cf07ee15a858",
            "placeholder": "​",
            "style": "IPY_MODEL_e2ebb94770854593b134016299822b20",
            "value": " 112/112 [00:00&lt;00:00, 1.67kB/s]"
          }
        },
        "f101de5a59ea48b3a0f68916c77edca7": {
          "model_module": "@jupyter-widgets/base",
          "model_module_version": "1.2.0",
          "model_name": "LayoutModel",
          "state": {
            "_model_module": "@jupyter-widgets/base",
            "_model_module_version": "1.2.0",
            "_model_name": "LayoutModel",
            "_view_count": null,
            "_view_module": "@jupyter-widgets/base",
            "_view_module_version": "1.2.0",
            "_view_name": "LayoutView",
            "align_content": null,
            "align_items": null,
            "align_self": null,
            "border": null,
            "bottom": null,
            "display": null,
            "flex": null,
            "flex_flow": null,
            "grid_area": null,
            "grid_auto_columns": null,
            "grid_auto_flow": null,
            "grid_auto_rows": null,
            "grid_column": null,
            "grid_gap": null,
            "grid_row": null,
            "grid_template_areas": null,
            "grid_template_columns": null,
            "grid_template_rows": null,
            "height": null,
            "justify_content": null,
            "justify_items": null,
            "left": null,
            "margin": null,
            "max_height": null,
            "max_width": null,
            "min_height": null,
            "min_width": null,
            "object_fit": null,
            "object_position": null,
            "order": null,
            "overflow": null,
            "overflow_x": null,
            "overflow_y": null,
            "padding": null,
            "right": null,
            "top": null,
            "visibility": null,
            "width": null
          }
        },
        "f39ee1242b96434983f1a1b0e38a5261": {
          "model_module": "@jupyter-widgets/base",
          "model_module_version": "1.2.0",
          "model_name": "LayoutModel",
          "state": {
            "_model_module": "@jupyter-widgets/base",
            "_model_module_version": "1.2.0",
            "_model_name": "LayoutModel",
            "_view_count": null,
            "_view_module": "@jupyter-widgets/base",
            "_view_module_version": "1.2.0",
            "_view_name": "LayoutView",
            "align_content": null,
            "align_items": null,
            "align_self": null,
            "border": null,
            "bottom": null,
            "display": null,
            "flex": null,
            "flex_flow": null,
            "grid_area": null,
            "grid_auto_columns": null,
            "grid_auto_flow": null,
            "grid_auto_rows": null,
            "grid_column": null,
            "grid_gap": null,
            "grid_row": null,
            "grid_template_areas": null,
            "grid_template_columns": null,
            "grid_template_rows": null,
            "height": null,
            "justify_content": null,
            "justify_items": null,
            "left": null,
            "margin": null,
            "max_height": null,
            "max_width": null,
            "min_height": null,
            "min_width": null,
            "object_fit": null,
            "object_position": null,
            "order": null,
            "overflow": null,
            "overflow_x": null,
            "overflow_y": null,
            "padding": null,
            "right": null,
            "top": null,
            "visibility": null,
            "width": null
          }
        },
        "f3a8553c18084299afdcb025ed6b1890": {
          "model_module": "@jupyter-widgets/controls",
          "model_module_version": "1.5.0",
          "model_name": "HTMLModel",
          "state": {
            "_dom_classes": [],
            "_model_module": "@jupyter-widgets/controls",
            "_model_module_version": "1.5.0",
            "_model_name": "HTMLModel",
            "_view_count": null,
            "_view_module": "@jupyter-widgets/controls",
            "_view_module_version": "1.5.0",
            "_view_name": "HTMLView",
            "description": "",
            "description_tooltip": null,
            "layout": "IPY_MODEL_a8aa62f429664d91afb0c93eff257a6c",
            "placeholder": "​",
            "style": "IPY_MODEL_221bb5ca52f7450eab82afc4a9465cc9",
            "value": "config.json: 100%"
          }
        },
        "f852d821b8f042b696ff79496f2d7124": {
          "model_module": "@jupyter-widgets/base",
          "model_module_version": "1.2.0",
          "model_name": "LayoutModel",
          "state": {
            "_model_module": "@jupyter-widgets/base",
            "_model_module_version": "1.2.0",
            "_model_name": "LayoutModel",
            "_view_count": null,
            "_view_module": "@jupyter-widgets/base",
            "_view_module_version": "1.2.0",
            "_view_name": "LayoutView",
            "align_content": null,
            "align_items": null,
            "align_self": null,
            "border": null,
            "bottom": null,
            "display": null,
            "flex": null,
            "flex_flow": null,
            "grid_area": null,
            "grid_auto_columns": null,
            "grid_auto_flow": null,
            "grid_auto_rows": null,
            "grid_column": null,
            "grid_gap": null,
            "grid_row": null,
            "grid_template_areas": null,
            "grid_template_columns": null,
            "grid_template_rows": null,
            "height": null,
            "justify_content": null,
            "justify_items": null,
            "left": null,
            "margin": null,
            "max_height": null,
            "max_width": null,
            "min_height": null,
            "min_width": null,
            "object_fit": null,
            "object_position": null,
            "order": null,
            "overflow": null,
            "overflow_x": null,
            "overflow_y": null,
            "padding": null,
            "right": null,
            "top": null,
            "visibility": null,
            "width": null
          }
        }
      }
    }
  },
  "nbformat": 4,
  "nbformat_minor": 0
}
